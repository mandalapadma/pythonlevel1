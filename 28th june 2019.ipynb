{
 "cells": [
  {
   "cell_type": "code",
   "execution_count": null,
   "metadata": {},
   "outputs": [],
   "source": [
    "###"
   ]
  },
  {
   "cell_type": "code",
   "execution_count": 2,
   "metadata": {},
   "outputs": [
    {
     "name": "stdout",
     "output_type": "stream",
     "text": [
      "A P S S D C\n",
      "Apssdc\n"
     ]
    }
   ],
   "source": [
    "# Print given characters as a word with starting character capital from and remainder lower\n",
    "#A P S S D C\n",
    "#Apssdc\n",
    "n = input().split()\n",
    "print(''.join(n).capitalize())\n"
   ]
  },
  {
   "cell_type": "code",
   "execution_count": 3,
   "metadata": {},
   "outputs": [
    {
     "name": "stdout",
     "output_type": "stream",
     "text": [
      "4\n",
      "O M A R\n",
      "Omar\n"
     ]
    }
   ],
   "source": [
    "# 4\n",
    "# omar\n",
    "n = int(input())\n",
    "m = input().split()\n",
    "print(\"\".join(m).capitalize())"
   ]
  },
  {
   "cell_type": "code",
   "execution_count": 1,
   "metadata": {},
   "outputs": [
    {
     "name": "stdout",
     "output_type": "stream",
     "text": [
      "A P S S D C\n"
     ]
    },
    {
     "ename": "NameError",
     "evalue": "name 'a' is not defined",
     "output_type": "error",
     "traceback": [
      "\u001b[1;31m---------------------------------------------------------------------------\u001b[0m",
      "\u001b[1;31mNameError\u001b[0m                                 Traceback (most recent call last)",
      "\u001b[1;32m<ipython-input-1-9db87c4e7ebd>\u001b[0m in \u001b[0;36m<module>\u001b[1;34m\u001b[0m\n\u001b[0;32m      1\u001b[0m \u001b[0mn\u001b[0m \u001b[1;33m=\u001b[0m \u001b[0minput\u001b[0m\u001b[1;33m(\u001b[0m\u001b[1;33m)\u001b[0m\u001b[1;33m\u001b[0m\u001b[1;33m\u001b[0m\u001b[0m\n\u001b[1;32m----> 2\u001b[1;33m \u001b[0mprint\u001b[0m\u001b[1;33m(\u001b[0m\u001b[0ma\u001b[0m\u001b[1;33m.\u001b[0m\u001b[0mcapitalize\u001b[0m\u001b[1;33m(\u001b[0m\u001b[1;33m)\u001b[0m\u001b[1;33m)\u001b[0m\u001b[1;33m\u001b[0m\u001b[1;33m\u001b[0m\u001b[0m\n\u001b[0m\u001b[0;32m      3\u001b[0m \u001b[1;31m#for i in n:\u001b[0m\u001b[1;33m\u001b[0m\u001b[1;33m\u001b[0m\u001b[1;33m\u001b[0m\u001b[0m\n\u001b[0;32m      4\u001b[0m     \u001b[1;31m#print(i,end=\"\")\u001b[0m\u001b[1;33m\u001b[0m\u001b[1;33m\u001b[0m\u001b[1;33m\u001b[0m\u001b[0m\n\u001b[0;32m      5\u001b[0m \u001b[1;33m\u001b[0m\u001b[0m\n",
      "\u001b[1;31mNameError\u001b[0m: name 'a' is not defined"
     ]
    }
   ],
   "source": [
    "n = input() \n",
    "print(a.capitalize())\n",
    "#for i in n:\n",
    "    #print(i,end=\"\")\n",
    "    "
   ]
  },
  {
   "cell_type": "code",
   "execution_count": 1,
   "metadata": {},
   "outputs": [
    {
     "name": "stdout",
     "output_type": "stream",
     "text": [
      "a p s s d c\n",
      " apssdc "
     ]
    }
   ],
   "source": [
    "word = input().split()\n",
    "s1 = \" \"\n",
    "for i in word:\n",
    "    s1 = s1+i.lower()\n",
    "print(\"\".join(s1).capitalize(),end=\" \")"
   ]
  },
  {
   "cell_type": "code",
   "execution_count": 4,
   "metadata": {},
   "outputs": [
    {
     "name": "stdout",
     "output_type": "stream",
     "text": [
      "hai hello world\n",
      "hello\n",
      "world\n"
     ]
    }
   ],
   "source": [
    "#Print the maximum length word of given words\n",
    "#Hai hello world\n",
    "#hello\n",
    "#world\n",
    "words=input().split()\n",
    "lengths=[]\n",
    "for word in words:\n",
    "    lengths.append(len(word))\n",
    "max_length=max(lengths)\n",
    "for word in words:\n",
    "    if max_length==len(word):\n",
    "        print(word)\n",
    "    "
   ]
  },
  {
   "cell_type": "code",
   "execution_count": 11,
   "metadata": {},
   "outputs": [
    {
     "name": "stdout",
     "output_type": "stream",
     "text": [
      "ramu ravi balu\n",
      "r\n",
      "ramu\n",
      "ravi\n"
     ]
    }
   ],
   "source": [
    "#Print all the words which starts with the given character, \n",
    "#If no words matches with the given condition you should print -1\n",
    "#ramu ravi balu\n",
    "#r\n",
    "#ramu\n",
    "#ravi\n",
    "words = input().split()\n",
    "c = input()\n",
    "match = 0\n",
    "for word in words:\n",
    "    if (word.startswith(c)):\n",
    "        print(word)\n",
    "        match+=1\n",
    "if match==0:\n",
    "    print(-1)\n",
    "\n"
   ]
  },
  {
   "cell_type": "code",
   "execution_count": 1,
   "metadata": {},
   "outputs": [
    {
     "name": "stdout",
     "output_type": "stream",
     "text": [
      "ramu ravi balu raju mahesh\n",
      "mahesh\n"
     ]
    }
   ],
   "source": [
    "#Print all the words which words not ends with vowels(a,e,i,o,u)\n",
    "#ramu ravi balu raju mahesh\n",
    "#mahesh\n",
    "words = input().split()\n",
    "word = [\"a\",\"e\",\"i\",\"o\",\"u\"]\n",
    "for ch in words:\n",
    "    if ch[-1] not in word:\n",
    "        print(ch)"
   ]
  },
  {
   "cell_type": "code",
   "execution_count": 45,
   "metadata": {},
   "outputs": [
    {
     "name": "stdout",
     "output_type": "stream",
     "text": [
      "ramu akash balu\n",
      "akash\n"
     ]
    }
   ],
   "source": [
    "#Print all the words which word contains duplicate characters\n",
    "#ramu akash balu\n",
    "#akash\n",
    "names = input().split()\n",
    "for name in names:\n",
    "    for ch in name:\n",
    "        if name.count(ch)>1:\n",
    "            print(name)\n",
    "            break\n",
    "        \n",
    "        \n",
    "    \n",
    "    "
   ]
  },
  {
   "cell_type": "code",
   "execution_count": 15,
   "metadata": {},
   "outputs": [
    {
     "name": "stdout",
     "output_type": "stream",
     "text": [
      "HellowOrld\n"
     ]
    },
    {
     "data": {
      "text/plain": [
       "'hELLOWoRLd'"
      ]
     },
     "execution_count": 15,
     "metadata": {},
     "output_type": "execute_result"
    }
   ],
   "source": [
    "#Swap the case of all characters in given string except last character\n",
    "#HellowOrld\n",
    "#hELLOWoRLd\n",
    "word= input()\n",
    "word[:-1].swapcase()+word[-1]\n",
    "\n",
    "    \n",
    "    \n"
   ]
  },
  {
   "cell_type": "code",
   "execution_count": 14,
   "metadata": {},
   "outputs": [
    {
     "name": "stdout",
     "output_type": "stream",
     "text": [
      "HelloWorld\n",
      "2\n"
     ]
    }
   ],
   "source": [
    "#Print the number of words in a given string (here word starting character contains UPPER letter)\n",
    "#HelloWorld\n",
    "#2\n",
    "word = input()\n",
    "count=0\n",
    "for ch in word:\n",
    "    if ch.isupper():\n",
    "        count+=1\n",
    "print(count)\n",
    "\n",
    "\n",
    "\n",
    "\n"
   ]
  },
  {
   "cell_type": "code",
   "execution_count": 17,
   "metadata": {},
   "outputs": [
    {
     "name": "stdout",
     "output_type": "stream",
     "text": [
      "HelloWorld\n"
     ]
    },
    {
     "data": {
      "text/plain": [
       "2"
      ]
     },
     "execution_count": 17,
     "metadata": {},
     "output_type": "execute_result"
    }
   ],
   "source": [
    "\n",
    "len(list(filter(str.isupper,input())))"
   ]
  },
  {
   "cell_type": "code",
   "execution_count": 9,
   "metadata": {},
   "outputs": [
    {
     "name": "stdout",
     "output_type": "stream",
     "text": [
      "www.way2sms.com\n",
      "1 \n",
      " 12 \n",
      " 2\n"
     ]
    }
   ],
   "source": [
    " #Print the number of digits, alphabets and any other \n",
    "#www.way2sms.com\n",
    "#DIGITS 1\n",
    "#ALPHABETS  12\n",
    "#OTHER 2\n",
    "n = input()\n",
    "count1 = 0\n",
    "count2 = 0\n",
    "count3 = 0\n",
    "for i in n:\n",
    "    if i.isdigit():\n",
    "        count1=count1+1\n",
    "        \n",
    "    elif i.isalpha():\n",
    "        count2=count2+1\n",
    "    else:\n",
    "        count3=count3+1\n",
    "print(count1,\"\\n\",count2,\"\\n\",count3)\n",
    "        \n",
    "        \n",
    "\n",
    "    \n"
   ]
  },
  {
   "cell_type": "code",
   "execution_count": null,
   "metadata": {},
   "outputs": [],
   "source": []
  },
  {
   "cell_type": "code",
   "execution_count": 44,
   "metadata": {},
   "outputs": [
    {
     "name": "stdout",
     "output_type": "stream",
     "text": [
      "10\n",
      "2 1\n",
      "2 3\n",
      "2 5\n",
      "2 7\n",
      "2 9\n",
      "4 1\n",
      "4 3\n",
      "4 5\n",
      "4 7\n",
      "4 9\n",
      "6 1\n",
      "6 3\n",
      "6 5\n",
      "6 7\n",
      "6 9\n",
      "8 1\n",
      "8 3\n",
      "8 5\n",
      "8 7\n",
      "8 9\n",
      "10\n",
      "10\n",
      "10\n",
      "10\n",
      "10\n",
      "10\n",
      "10\n",
      "10\n",
      "10\n",
      "10\n",
      "10\n"
     ]
    }
   ],
   "source": [
    "#1.Print even and odd numbers up to given range.\n",
    "\n",
    "#### input : 10 \n",
    "#### output:\n",
    "#### even numbers -->  2,4,6,8,10\n",
    "#### odd numbers --> 1,3,5,7,9\n",
    "n = int(input())\n",
    "for i in range(2,10,2):\n",
    "    for j in range(1,10,2):\n",
    "        print(i,j)\n",
    "        \n",
    "    \n",
    "    \n",
    "n = int(input())\n",
    "for i in range(n):\n",
    "    if i%2 == 0:\n",
    "        print(even)\n",
    "    else:\n",
    "        print(odd)\n",
    "        \n",
    "\n",
    "\n"
   ]
  },
  {
   "cell_type": "markdown",
   "metadata": {},
   "source": [
    "### List comprehensives:"
   ]
  },
  {
   "cell_type": "code",
   "execution_count": 30,
   "metadata": {},
   "outputs": [
    {
     "data": {
      "text/plain": [
       "[0, 1, 2, 3, 4, 5, 6, 7, 8, 9]"
      ]
     },
     "execution_count": 30,
     "metadata": {},
     "output_type": "execute_result"
    }
   ],
   "source": [
    "li = [i for i in range(10)]\n",
    "li"
   ]
  },
  {
   "cell_type": "code",
   "execution_count": 31,
   "metadata": {},
   "outputs": [
    {
     "data": {
      "text/plain": [
       "[0, 1, 2, 3, 4, 5, 6, 7, 8, 9]"
      ]
     },
     "execution_count": 31,
     "metadata": {},
     "output_type": "execute_result"
    }
   ],
   "source": [
    "li = []\n",
    "for i in range(10):\n",
    "    li.append(i)\n",
    "li"
   ]
  },
  {
   "cell_type": "code",
   "execution_count": 35,
   "metadata": {},
   "outputs": [
    {
     "data": {
      "text/plain": [
       "[0, 1, 8, 27, 64, 125, 216, 343, 512, 729]"
      ]
     },
     "execution_count": 35,
     "metadata": {},
     "output_type": "execute_result"
    }
   ],
   "source": [
    "li = [i**3 for i in range(10)]\n",
    "li"
   ]
  },
  {
   "cell_type": "code",
   "execution_count": 34,
   "metadata": {},
   "outputs": [
    {
     "data": {
      "text/plain": [
       "[0, 1, 4, 9, 16, 25, 36, 49, 64, 81]"
      ]
     },
     "execution_count": 34,
     "metadata": {},
     "output_type": "execute_result"
    }
   ],
   "source": [
    "li = [i*i for i in range(10)]\n",
    "li"
   ]
  },
  {
   "cell_type": "code",
   "execution_count": 41,
   "metadata": {},
   "outputs": [
    {
     "data": {
      "text/plain": [
       "[5, 10, 15, 20, 25, 30, 35, 40, 45, 50]"
      ]
     },
     "execution_count": 41,
     "metadata": {},
     "output_type": "execute_result"
    }
   ],
   "source": [
    "li = [5*i for i in range(1,11)]\n",
    "li"
   ]
  },
  {
   "cell_type": "code",
   "execution_count": 47,
   "metadata": {},
   "outputs": [
    {
     "data": {
      "text/plain": [
       "[1, 3, 5, 7, 9]"
      ]
     },
     "execution_count": 47,
     "metadata": {},
     "output_type": "execute_result"
    }
   ],
   "source": [
    "li = [i for i in range(1,10,2)]\n",
    "li"
   ]
  },
  {
   "cell_type": "code",
   "execution_count": 1,
   "metadata": {},
   "outputs": [
    {
     "data": {
      "text/plain": [
       "[0, 2, 4, 6, 8]"
      ]
     },
     "execution_count": 1,
     "metadata": {},
     "output_type": "execute_result"
    }
   ],
   "source": [
    "li = [i for i in range(0,10,2)]\n",
    "li"
   ]
  },
  {
   "cell_type": "code",
   "execution_count": 3,
   "metadata": {},
   "outputs": [
    {
     "data": {
      "text/plain": [
       "[2, 4, 6, 8, 10]"
      ]
     },
     "execution_count": 3,
     "metadata": {},
     "output_type": "execute_result"
    }
   ],
   "source": [
    "li = [i for i in range(2,11,2)]\n",
    "li"
   ]
  },
  {
   "cell_type": "code",
   "execution_count": 7,
   "metadata": {},
   "outputs": [
    {
     "ename": "SyntaxError",
     "evalue": "invalid syntax (<ipython-input-7-13ffbabf0b0b>, line 1)",
     "output_type": "error",
     "traceback": [
      "\u001b[1;36m  File \u001b[1;32m\"<ipython-input-7-13ffbabf0b0b>\"\u001b[1;36m, line \u001b[1;32m1\u001b[0m\n\u001b[1;33m    li = [iand j for i and j in range(0,10,2) and (2,11,2)]\u001b[0m\n\u001b[1;37m               ^\u001b[0m\n\u001b[1;31mSyntaxError\u001b[0m\u001b[1;31m:\u001b[0m invalid syntax\n"
     ]
    }
   ],
   "source": [
    "li = [iand j for i and j in range(0,10,2) and (2,11,2)]\n",
    "li"
   ]
  },
  {
   "cell_type": "code",
   "execution_count": 17,
   "metadata": {},
   "outputs": [
    {
     "name": "stdout",
     "output_type": "stream",
     "text": [
      "5\n",
      "5 , 1 , 5\n",
      "5 , 2 , 10\n",
      "5 , 3 , 15\n",
      "5 , 4 , 20\n",
      "5 , 5 , 25\n"
     ]
    }
   ],
   "source": [
    "num = int(input())\n",
    "for value in range(1,num+1):\n",
    "    print(num,\",\",value,\",\" ,num*value)\n",
    "    "
   ]
  },
  {
   "cell_type": "code",
   "execution_count": 33,
   "metadata": {},
   "outputs": [
    {
     "name": "stdout",
     "output_type": "stream",
     "text": [
      "5\n"
     ]
    },
    {
     "data": {
      "text/plain": [
       "[(5, ',', 1, ',', 5),\n",
       " (5, ',', 2, ',', 10),\n",
       " (5, ',', 3, ',', 15),\n",
       " (5, ',', 4, ',', 20),\n",
       " (5, ',', 5, ',', 25)]"
      ]
     },
     "execution_count": 33,
     "metadata": {},
     "output_type": "execute_result"
    }
   ],
   "source": [
    "num = int(input())\n",
    "li = [(num,\",\",value,\",\",num*value) for value in range(1,num+1)]\n",
    "li"
   ]
  },
  {
   "cell_type": "code",
   "execution_count": 21,
   "metadata": {},
   "outputs": [
    {
     "name": "stdout",
     "output_type": "stream",
     "text": [
      "PADMA\n",
      "padma"
     ]
    }
   ],
   "source": [
    "# take one string that convert upper \n",
    "word = input()\n",
    "for ch in word:\n",
    "    if ch.isupper():\n",
    "        print(ch.lower(),end=\"\")"
   ]
  },
  {
   "cell_type": "code",
   "execution_count": 35,
   "metadata": {},
   "outputs": [
    {
     "name": "stdout",
     "output_type": "stream",
     "text": [
      "PADMA\n"
     ]
    },
    {
     "data": {
      "text/plain": [
       "['p', 'a', 'd', 'm', 'a']"
      ]
     },
     "execution_count": 35,
     "metadata": {},
     "output_type": "execute_result"
    }
   ],
   "source": [
    "word = input()\n",
    "li = [ch.lower() for ch in word]\n",
    "li"
   ]
  },
  {
   "cell_type": "code",
   "execution_count": 41,
   "metadata": {},
   "outputs": [
    {
     "name": "stdout",
     "output_type": "stream",
     "text": [
      "oad 13242\n",
      "5\n"
     ]
    }
   ],
   "source": [
    "# print string of digits\n",
    "num = input()\n",
    "count = 0\n",
    "for i in num:\n",
    "    if i.isdigit():\n",
    "        count=count+1\n",
    "print(count)\n",
    "\n"
   ]
  },
  {
   "cell_type": "code",
   "execution_count": 15,
   "metadata": {},
   "outputs": [
    {
     "ename": "SyntaxError",
     "evalue": "invalid syntax (<ipython-input-15-22cc7d6cffe1>, line 2)",
     "output_type": "error",
     "traceback": [
      "\u001b[1;36m  File \u001b[1;32m\"<ipython-input-15-22cc7d6cffe1>\"\u001b[1;36m, line \u001b[1;32m2\u001b[0m\n\u001b[1;33m    li = [count, i.isdigit() for i in num]\u001b[0m\n\u001b[1;37m                               ^\u001b[0m\n\u001b[1;31mSyntaxError\u001b[0m\u001b[1;31m:\u001b[0m invalid syntax\n"
     ]
    }
   ],
   "source": [
    "num = input()\n",
    "li = [count i.isdigit() for i in num]\n",
    "li"
   ]
  },
  {
   "cell_type": "code",
   "execution_count": null,
   "metadata": {},
   "outputs": [],
   "source": []
  },
  {
   "cell_type": "code",
   "execution_count": null,
   "metadata": {},
   "outputs": [],
   "source": []
  }
 ],
 "metadata": {
  "kernelspec": {
   "display_name": "Python 3",
   "language": "python",
   "name": "python3"
  },
  "language_info": {
   "codemirror_mode": {
    "name": "ipython",
    "version": 3
   },
   "file_extension": ".py",
   "mimetype": "text/x-python",
   "name": "python",
   "nbconvert_exporter": "python",
   "pygments_lexer": "ipython3",
   "version": "3.7.3"
  }
 },
 "nbformat": 4,
 "nbformat_minor": 2
}
