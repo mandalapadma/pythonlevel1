{
 "cells": [
  {
   "cell_type": "markdown",
   "metadata": {},
   "source": [
    "### date 17th june - 2019\n",
    "## basic problems in Hackerearth\n",
    "- 1.play with number\n",
    "- 2.Two Strings\n",
    "        "
   ]
  },
  {
   "cell_type": "markdown",
   "metadata": {},
   "source": [
    "#### 1.play with numbers\n",
    "- line1 : array size,no of queries(q)\n",
    "- line2 : n array elements\n",
    "- next q lines : query - sub array of the original array\n",
    "    \n",
    "- ex :\n",
    "   - 5 2\n",
    "   - 1 2 3 4 5\n",
    "   -  1 2\n",
    "   - 0 5"
   ]
  },
  {
   "cell_type": "code",
   "execution_count": 7,
   "metadata": {},
   "outputs": [
    {
     "ename": "SyntaxError",
     "evalue": "invalid syntax (<ipython-input-7-ba73d46ef637>, line 15)",
     "output_type": "error",
     "traceback": [
      "\u001b[1;36m  File \u001b[1;32m\"<ipython-input-7-ba73d46ef637>\"\u001b[1;36m, line \u001b[1;32m15\u001b[0m\n\u001b[1;33m    for k in range(0, n[1]):\u001b[0m\n\u001b[1;37m                           ^\u001b[0m\n\u001b[1;31mSyntaxError\u001b[0m\u001b[1;31m:\u001b[0m invalid syntax\n"
     ]
    }
   ],
   "source": [
    "# Read no of array elementes and no of quries\n",
    "# Play with Numbers\n",
    "n = input().split()\n",
    "n[0],n[1] = int(n[0]),int(n[1])\n",
    "#Read array elements\n",
    "a = input().split()\n",
    "sum = []#Initalize cumulative suj array\n",
    "#cumulative sum\n",
    "for i in range(0, n[0]):\n",
    "    if i == 0:\n",
    "        sum.append(int(a[i]))\n",
    "    else:\n",
    "        sum.append(int(sum[i-1])+int(a[i])\n",
    "# Read each query and calculate the average\n",
    "for k in range(0, n[1]):\n",
    "        inq = input().split()\n",
    "        i = int(inq[0])\n",
    "        j = int(inq[1])\n",
    "    if  i > 1:\n",
    "        print((sum[j-1]-sum[i-2]) // (j-i+1)))\n",
    "    else:\n",
    "        print(sum[j-1] // (j-i+1))"
   ]
  },
  {
   "cell_type": "code",
   "execution_count": null,
   "metadata": {},
   "outputs": [],
   "source": []
  },
  {
   "cell_type": "code",
   "execution_count": null,
   "metadata": {},
   "outputs": [],
   "source": []
  }
 ],
 "metadata": {
  "kernelspec": {
   "display_name": "Python 3",
   "language": "python",
   "name": "python3"
  },
  "language_info": {
   "codemirror_mode": {
    "name": "ipython",
    "version": 3
   },
   "file_extension": ".py",
   "mimetype": "text/x-python",
   "name": "python",
   "nbconvert_exporter": "python",
   "pygments_lexer": "ipython3",
   "version": "3.7.3"
  }
 },
 "nbformat": 4,
 "nbformat_minor": 2
}
