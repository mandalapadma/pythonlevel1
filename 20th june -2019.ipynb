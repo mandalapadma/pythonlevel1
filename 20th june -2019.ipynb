{
 "cells": [
  {
   "cell_type": "markdown",
   "metadata": {},
   "source": [
    "### 20th june - 2019\n",
    "# Day Objectives:\n",
    "- Regular Expression :\n",
    "    - Constructing Regular Expression for various use cases\n",
    "    - Regular Expression Module and related in Python\n",
    "    - Improving the Contacts application with name and phone number validation\n",
    "- file Handling\n",
    "    - Text Files\n",
    "    - Upgrading the contacts Application to store contact information in a text file"
   ]
  },
  {
   "cell_type": "code",
   "execution_count": null,
   "metadata": {},
   "outputs": [],
   "source": []
  },
  {
   "cell_type": "markdown",
   "metadata": {},
   "source": [
    "#### Regular Expression\n",
    "- Pattern Matching\n",
    "- Symbolic Notation of a pattern\n",
    "    - Pattern : Format which repeats\n",
    "    - Pattern(RE) - represents The set of all values  match that pattern\n",
    "-[0-9] -> Any digit \n",
    "- [a-z] -> Any lower case alphabet\n",
    "-  [2468] -> All single digit  multiplles of 2\n",
    "    .[8642]\n",
    "    [6824]\n",
    "- ^[0-9]{1}$ -> Only single digit numbers\n",
    "- ^[0-9]{3}$ ->  only three digit numbers\n",
    "-  [0-9]*0$ or ^[1-9]*[0-9]*0$  -> all multiples of 10\n",
    "-  ^[1-9][0-9]{9}$ -> All 10 digits numbers\n",
    "-  ^([1-9]*[0-9]*[05])$ |^([5])$ -> All Multiples of 5\n",
    "- ^[6-9][0-9]{9}$ | ^[0][6-9][0-9]{9}$ | ^[+][9][1][6-9][0-9] -> vlaidating phone number(India)(start with 9879)\n",
    "-                   -> Email Validation(user name@domain.extension)\n",
    "- ^[0-9a-z][0-9a-z_.]{4,13}[0-9a-z][@][0-9a-z]{3,18}[.][0-9a-z][a-z]{2,4}$ - username\n",
    "                  - Length of username :[6,15]\n",
    "                  - No special characters other than _ . \n",
    "                  - Should not begin and end with _ lower case alphabet _.\n",
    "              - domain\n",
    "                  -Length of domain:[3,18]\n",
    "                  - No special characters\n",
    "                  - Character set : all digits and lower case alphabet\n",
    "              - extension\n",
    "                  - Legth of extension : [2,4]\n",
    "                  - No special characters\n",
    "                  - Character set : lower case alphabet\n",
    "- [w][o][r][d] or (word) -> Searching for a 'word'\n",
    "- ^[a]...[z]$  - any string start with a and end with z\n",
    "- ^[a].*[z]$ -> any string any length starts with a and with z"
   ]
  },
  {
   "cell_type": "code",
   "execution_count": null,
   "metadata": {},
   "outputs": [],
   "source": []
  },
  {
   "cell_type": "code",
   "execution_count": 56,
   "metadata": {},
   "outputs": [
    {
     "data": {
      "text/plain": [
       "True"
      ]
     },
     "execution_count": 56,
     "metadata": {},
     "output_type": "execute_result"
    }
   ],
   "source": [
    "# Function to validate a phone number\n",
    "import re\n",
    "def phoneNumberValidatior(number):\n",
    "    pattern = ' ^[6-9][0-9]{9}$ | ^[0][6-9][0-9]{9}$ | ^[+][9][1][6-9][0-9]'\n",
    "    if re.match(pattern,str(number)):\n",
    "            return True\n",
    "    return False\n",
    "phoneNumberValidatior(9332940846)\n",
    "\n",
    "\n",
    "def EmailValidator(email):\n",
    "    pattern = '[0-9a-z][0-9a-z_.]{4,13}[0-9a-z][@][0-9a-z]{3,18}[.][0-9a-z][a-z]{2,4}$'\n",
    "    if re.match(pattern,email):\n",
    "        return True\n",
    "    return False\n",
    "emailValidator(\"psd487@gmail.com\")\n",
    "    \n",
    "\n",
    "\n",
    "\n",
    "\n",
    "\n"
   ]
  },
  {
   "cell_type": "code",
   "execution_count": 1,
   "metadata": {},
   "outputs": [
    {
     "ename": "NameError",
     "evalue": "name 'phoneNumberValidatior' is not defined",
     "output_type": "error",
     "traceback": [
      "\u001b[1;31m---------------------------------------------------------------------------\u001b[0m",
      "\u001b[1;31mNameError\u001b[0m                                 Traceback (most recent call last)",
      "\u001b[1;32m<ipython-input-1-e676cb4d34f8>\u001b[0m in \u001b[0;36m<module>\u001b[1;34m\u001b[0m\n\u001b[0;32m     17\u001b[0m     \u001b[0mprint\u001b[0m\u001b[1;33m(\u001b[0m\u001b[0mname\u001b[0m\u001b[1;33m,\u001b[0m\u001b[1;34m\"addedsuccessfully\"\u001b[0m\u001b[1;33m)\u001b[0m\u001b[1;33m\u001b[0m\u001b[1;33m\u001b[0m\u001b[0m\n\u001b[0;32m     18\u001b[0m     \u001b[1;32mreturn\u001b[0m\u001b[1;33m\u001b[0m\u001b[1;33m\u001b[0m\u001b[0m\n\u001b[1;32m---> 19\u001b[1;33m \u001b[0maddContact\u001b[0m\u001b[1;33m(\u001b[0m\u001b[1;34m\"name3\"\u001b[0m\u001b[1;33m,\u001b[0m\u001b[1;34m\"9491184719\"\u001b[0m\u001b[1;33m,\u001b[0m\u001b[1;34m'amma143@gmail.com'\u001b[0m\u001b[1;33m)\u001b[0m\u001b[1;33m\u001b[0m\u001b[1;33m\u001b[0m\u001b[0m\n\u001b[0m",
      "\u001b[1;32m<ipython-input-1-e676cb4d34f8>\u001b[0m in \u001b[0;36maddContact\u001b[1;34m(name, phone, email)\u001b[0m\n\u001b[0;32m      5\u001b[0m         \u001b[0mprint\u001b[0m\u001b[1;33m(\u001b[0m\u001b[0mname\u001b[0m\u001b[1;33m,\u001b[0m\u001b[1;34m\"already exists.\"\u001b[0m\u001b[1;33m)\u001b[0m\u001b[1;33m\u001b[0m\u001b[1;33m\u001b[0m\u001b[0m\n\u001b[0;32m      6\u001b[0m     \u001b[1;32melse\u001b[0m\u001b[1;33m:\u001b[0m\u001b[1;33m\u001b[0m\u001b[1;33m\u001b[0m\u001b[0m\n\u001b[1;32m----> 7\u001b[1;33m         \u001b[1;32mif\u001b[0m \u001b[1;32mnot\u001b[0m \u001b[0mphoneNumberValidatior\u001b[0m\u001b[1;33m(\u001b[0m\u001b[0mphone\u001b[0m\u001b[1;33m)\u001b[0m\u001b[1;33m:\u001b[0m\u001b[1;33m\u001b[0m\u001b[1;33m\u001b[0m\u001b[0m\n\u001b[0m\u001b[0;32m      8\u001b[0m             \u001b[0mprint\u001b[0m\u001b[1;33m(\u001b[0m\u001b[1;34m\"Invalid Phone number\"\u001b[0m\u001b[1;33m)\u001b[0m\u001b[1;33m\u001b[0m\u001b[1;33m\u001b[0m\u001b[0m\n\u001b[0;32m      9\u001b[0m             \u001b[1;32mreturn\u001b[0m\u001b[1;33m\u001b[0m\u001b[1;33m\u001b[0m\u001b[0m\n",
      "\u001b[1;31mNameError\u001b[0m: name 'phoneNumberValidatior' is not defined"
     ]
    }
   ],
   "source": [
    "contacts = {\"name1\":[7032427140,'padma@domain.ext'],\"name2\":[8332940846,'ganga36@domain.ext']}\n",
    "def addContact(name,phone,email):\n",
    "    # verify that the contact doesnot alreay exisit\n",
    "    if name in contacts:\n",
    "        print(name,\"already exists.\")\n",
    "    else:\n",
    "        if not phoneNumberValidatior(phone):\n",
    "            print(\"Invalid Phone number\")\n",
    "            return\n",
    "        if not EmailValidator(email):\n",
    "            print(\"Invalid Email address\")\n",
    "            return\n",
    "    newcontact = []\n",
    "    newcontact.append[phone]\n",
    "    newcontact.append(email)\n",
    "    contacts[name]=newcontact\n",
    "    print(name,\"addedsuccessfully\")\n",
    "    return \n",
    "addContact(\"name3\",\"9491184719\",'amma143@gmail.com')"
   ]
  },
  {
   "cell_type": "code",
   "execution_count": 24,
   "metadata": {},
   "outputs": [
    {
     "name": "stdout",
     "output_type": "stream",
     "text": [
      "name1\n",
      "Phone : 7032427140\n",
      "Email : padma@domain.ext\n"
     ]
    }
   ],
   "source": [
    "def SearchContacts(name):\n",
    "    if name in contacts:\n",
    "        print(name)\n",
    "        print(\"Phone :\",contacts[name][0])\n",
    "        print(\"Email :\",contacts[name][1])\n",
    "    else:\n",
    "        print(\"%s does not exist\"%name)\n",
    "    return\n",
    "SearchContacts(\"name1\")"
   ]
  },
  {
   "cell_type": "code",
   "execution_count": 28,
   "metadata": {},
   "outputs": [
    {
     "name": "stdout",
     "output_type": "stream",
     "text": [
      "1 contacts added successfully\n"
     ]
    },
    {
     "data": {
      "text/plain": [
       "dict_items([('name1', [7032427140, 'padma@domain.ext']), ('name2', [8332940846, 'ganga36@domain.ext']), ('name4', [8464532167, 'name4_amma@gmail.com'])])"
      ]
     },
     "execution_count": 28,
     "metadata": {},
     "output_type": "execute_result"
    }
   ],
   "source": [
    "#New contancts is given as a dictionary\n",
    "#Merge new contacts with existing contancts\n",
    "def importContacts(newContacts):\n",
    "    contacts.update(newContacts)\n",
    "    print(len(newContacts.keys()), \"contacts added successfully\")\n",
    "    return\n",
    "newContacts = {\"name4\":[8464532167,\"name4_amma@gmail.com\"]}\n",
    "importContacts(newContacts)\n",
    "contacts.items()"
   ]
  },
  {
   "cell_type": "code",
   "execution_count": 29,
   "metadata": {},
   "outputs": [
    {
     "name": "stdout",
     "output_type": "stream",
     "text": [
      "name1 \n",
      " phone : 7032427140 \n",
      " Email padma@domain.ext\n",
      "name2 \n",
      " phone : 8332940846 \n",
      " Email ganga36@domain.ext\n",
      "name4 \n",
      " phone : 8464532167 \n",
      " Email name4_amma@gmail.com\n"
     ]
    }
   ],
   "source": [
    "# Function to list of all contacts\n",
    "def listAllContacts():\n",
    "    for contact,info in contacts.items():\n",
    "        print(contact,\"\\n\",\"phone :\",info[0],\"\\n\",\"Email\",info[1])\n",
    "    return\n",
    "listAllContacts()"
   ]
  },
  {
   "cell_type": "code",
   "execution_count": null,
   "metadata": {},
   "outputs": [],
   "source": [
    "# Function to edit contact information\n",
    "#def editContact(name,phone,email):\n",
    "    "
   ]
  },
  {
   "cell_type": "code",
   "execution_count": null,
   "metadata": {},
   "outputs": [],
   "source": []
  },
  {
   "cell_type": "markdown",
   "metadata": {},
   "source": [
    "#### File Handling in Python\n",
    "\n",
    "- File - Document containing information residing on the perment storage\n",
    "- Types - Text,PDF,CSV(spreed sheets) etc ...\n",
    "- File I/O - Channellilng I/O data to files\n",
    "- Default I/O - channels - Keyboard / Screen\n",
    "- Change I/O channel to files for Reading and writing\n",
    "- Read a file - Input from file\n",
    "- Write to a file - Output to a file\n",
    "- Read/Write a file - open(filename,mode)"
   ]
  },
  {
   "cell_type": "code",
   "execution_count": 41,
   "metadata": {},
   "outputs": [
    {
     "name": "stdout",
     "output_type": "stream",
     "text": [
      "Line1\n",
      " Line2\n",
      " Line3 Line1\n",
      "Line2\n",
      "Line3\n"
     ]
    }
   ],
   "source": [
    "# Function to read a file\n",
    "\n",
    "def readFile(filename):\n",
    "    f = open(filename,'r')\n",
    "    filedata = f.read()\n",
    "    f.close()\n",
    "    return filedata\n",
    "filename = 'DataFiles/data.txt'\n",
    "filedata = readFile(filename)\n",
    "#for line in filedata.split('\\n'):\n",
    " #   print(line)\n",
    "    \n",
    "def printFileDataLines(filename):\n",
    "    with open(filename,'r') as f:\n",
    "        for line in f:\n",
    "            print(line,end=' ')\n",
    "    return\n",
    "printFileDataLines(filename)\n",
    "print(readFile(filename))"
   ]
  },
  {
   "cell_type": "code",
   "execution_count": 43,
   "metadata": {},
   "outputs": [],
   "source": [
    "# Function to write data into a file\n",
    "def writeIntoFile(filename,filedata):\n",
    "    with open(filename,'w') as f:\n",
    "        f.write(filedata)\n",
    "    return\n",
    "filename = 'DataFiles/data.txt'\n",
    "\n",
    "writeIntoFile(filename,\"amma 143\")\n"
   ]
  },
  {
   "cell_type": "code",
   "execution_count": 52,
   "metadata": {},
   "outputs": [],
   "source": [
    "# Function to append data to a file\n",
    "def appendDataToFile(filename,filedata):\n",
    "    with open(filename,'a') as f:\n",
    "        for line in filedata:\n",
    "            f.write('\\n'+line)\n",
    "    return \n",
    "filedata = [\"line4\",\"line5\"]\n",
    "appendDataToFile(filename,filedata)"
   ]
  },
  {
   "cell_type": "code",
   "execution_count": 60,
   "metadata": {},
   "outputs": [
    {
     "data": {
      "text/plain": [
       "{'name1': [7032427140, 'padma@domain.ext'],\n",
       " 'name2': [8332940846, 'ganga36@domain.ext']}"
      ]
     },
     "execution_count": 60,
     "metadata": {},
     "output_type": "execute_result"
    }
   ],
   "source": [
    "contacts"
   ]
  },
  {
   "cell_type": "code",
   "execution_count": 5,
   "metadata": {},
   "outputs": [
    {
     "ename": "UnboundLocalError",
     "evalue": "local variable 'flilename' referenced before assignment",
     "output_type": "error",
     "traceback": [
      "\u001b[1;31m---------------------------------------------------------------------------\u001b[0m",
      "\u001b[1;31mUnboundLocalError\u001b[0m                         Traceback (most recent call last)",
      "\u001b[1;32m<ipython-input-5-78f02a43ae07>\u001b[0m in \u001b[0;36m<module>\u001b[1;34m\u001b[0m\n\u001b[0;32m      9\u001b[0m     \u001b[1;32melif\u001b[0m \u001b[0memail\u001b[0m \u001b[1;32min\u001b[0m \u001b[0mfilename\u001b[0m\u001b[1;33m:\u001b[0m\u001b[1;33m\u001b[0m\u001b[1;33m\u001b[0m\u001b[0m\n\u001b[0;32m     10\u001b[0m         \u001b[0mprint\u001b[0m\u001b[1;33m(\u001b[0m\u001b[1;34m\"email\"\u001b[0m\u001b[1;33m)\u001b[0m\u001b[1;33m\u001b[0m\u001b[1;33m\u001b[0m\u001b[0m\n\u001b[1;32m---> 11\u001b[1;33m \u001b[0meditContact\u001b[0m\u001b[1;33m(\u001b[0m\u001b[1;34m\"padma\"\u001b[0m\u001b[1;33m,\u001b[0m\u001b[1;34m\"9673636364\"\u001b[0m\u001b[1;33m,\u001b[0m\u001b[1;34m\"amma143@gmail.com\"\u001b[0m\u001b[1;33m)\u001b[0m\u001b[1;33m\u001b[0m\u001b[1;33m\u001b[0m\u001b[0m\n\u001b[0m",
      "\u001b[1;32m<ipython-input-5-78f02a43ae07>\u001b[0m in \u001b[0;36meditContact\u001b[1;34m(name, phone, email)\u001b[0m\n\u001b[0;32m      1\u001b[0m \u001b[1;31m# Function to edit contact information\u001b[0m\u001b[1;33m\u001b[0m\u001b[1;33m\u001b[0m\u001b[1;33m\u001b[0m\u001b[0m\n\u001b[0;32m      2\u001b[0m \u001b[1;32mdef\u001b[0m \u001b[0meditContact\u001b[0m\u001b[1;33m(\u001b[0m\u001b[0mname\u001b[0m\u001b[1;33m,\u001b[0m\u001b[0mphone\u001b[0m\u001b[1;33m,\u001b[0m\u001b[0memail\u001b[0m\u001b[1;33m)\u001b[0m\u001b[1;33m:\u001b[0m\u001b[1;33m\u001b[0m\u001b[1;33m\u001b[0m\u001b[0m\n\u001b[1;32m----> 3\u001b[1;33m     \u001b[0mf\u001b[0m \u001b[1;33m=\u001b[0m \u001b[0mopen\u001b[0m\u001b[1;33m(\u001b[0m\u001b[0mflilename\u001b[0m\u001b[1;33m,\u001b[0m\u001b[1;34m'r'\u001b[0m\u001b[1;33m)\u001b[0m\u001b[1;33m\u001b[0m\u001b[1;33m\u001b[0m\u001b[0m\n\u001b[0m\u001b[0;32m      4\u001b[0m     \u001b[0mflilename\u001b[0m \u001b[1;33m=\u001b[0m \u001b[1;34m'DataFiles/contacts.txt'\u001b[0m\u001b[1;33m\u001b[0m\u001b[1;33m\u001b[0m\u001b[0m\n\u001b[0;32m      5\u001b[0m     \u001b[1;32mif\u001b[0m \u001b[0mname\u001b[0m \u001b[1;32min\u001b[0m \u001b[0mfilename\u001b[0m\u001b[1;33m:\u001b[0m\u001b[1;33m\u001b[0m\u001b[1;33m\u001b[0m\u001b[0m\n",
      "\u001b[1;31mUnboundLocalError\u001b[0m: local variable 'flilename' referenced before assignment"
     ]
    }
   ],
   "source": [
    "# Function to edit contact information\n",
    "def editContact(name,phone,email):\n",
    "    with open(flilename,'r') as f\n",
    "    flilename = 'DataFiles/contacts.txt'\n",
    "    if name in filename:\n",
    "        print(\"name\")\n",
    "    elif phone in filename:\n",
    "        print(\"phone\")\n",
    "    elif email in filename:\n",
    "        print(\"email\")\n",
    "editContact(\"padma\",\"9673636364\",\"amma143@gmail.com\")"
   ]
  },
  {
   "cell_type": "code",
   "execution_count": null,
   "metadata": {},
   "outputs": [],
   "source": []
  }
 ],
 "metadata": {
  "kernelspec": {
   "display_name": "Python 3",
   "language": "python",
   "name": "python3"
  },
  "language_info": {
   "codemirror_mode": {
    "name": "ipython",
    "version": 3
   },
   "file_extension": ".py",
   "mimetype": "text/x-python",
   "name": "python",
   "nbconvert_exporter": "python",
   "pygments_lexer": "ipython3",
   "version": "3.7.3"
  }
 },
 "nbformat": 4,
 "nbformat_minor": 2
}
