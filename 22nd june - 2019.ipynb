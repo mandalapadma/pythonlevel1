{
 "cells": [
  {
   "cell_type": "markdown",
   "metadata": {},
   "source": [
    "### date : 22nd june -2019\n",
    "## Day objectivies:\n",
    "- File Handling\n",
    "\n",
    "    - Basic file data processing\n",
    "        - Accessing and Modifying file data \n",
    "    - character Count \n",
    "    - Line Count\n",
    "    - File Size\n",
    "    - Word Count\n",
    "    - Unique Word Count"
   ]
  },
  {
   "cell_type": "code",
   "execution_count": 1,
   "metadata": {},
   "outputs": [
    {
     "name": "stdout",
     "output_type": "stream",
     "text": [
      "hello!hi how r u!\n"
     ]
    }
   ],
   "source": [
    "# Read a File - File should exist(Read Mode)\n",
    "# Write to a File - Existing(append) or New file(Write Mode)\n",
    "#fucnction to read entire into a string\n",
    "def readFile(filePath):\n",
    "    with open(filePath,'r') as f :\n",
    "        #print(type(f))\n",
    "        filedata = f.read() # Reads the entire file data into a string\n",
    "    return filedata\n",
    "filePath = 'DataFiles/data.txt'\n",
    "print(readFile(filePath))"
   ]
  },
  {
   "cell_type": "code",
   "execution_count": null,
   "metadata": {},
   "outputs": [],
   "source": []
  },
  {
   "cell_type": "code",
   "execution_count": 9,
   "metadata": {},
   "outputs": [
    {
     "data": {
      "text/plain": [
       "6"
      ]
     },
     "execution_count": 9,
     "metadata": {},
     "output_type": "execute_result"
    }
   ],
   "source": [
    "def writeFile(filePath):\n",
    "    with open(filePath,'w') as f:        \n",
    "        filedata = f.write(\"hello!\")\n",
    "    return filedata\n",
    "filePath = 'DataFiles/data.txt'\n",
    "writeFile(filePath)"
   ]
  },
  {
   "cell_type": "code",
   "execution_count": 10,
   "metadata": {},
   "outputs": [
    {
     "data": {
      "text/plain": [
       "11"
      ]
     },
     "execution_count": 10,
     "metadata": {},
     "output_type": "execute_result"
    }
   ],
   "source": [
    "def writeFile(filePath):\n",
    "    with open(filePath,'a') as f:\n",
    "        filedata = f.write(\"hi how r u!\")\n",
    "    return filedata\n",
    "filePath = 'DataFiles/data.txt'\n",
    "writeFile(filePath)"
   ]
  },
  {
   "cell_type": "code",
   "execution_count": 6,
   "metadata": {},
   "outputs": [
    {
     "data": {
      "text/plain": [
       "17"
      ]
     },
     "execution_count": 6,
     "metadata": {},
     "output_type": "execute_result"
    }
   ],
   "source": [
    "# Character count\n",
    "def CharacterCount(filename):\n",
    "    count = 0\n",
    "    with open(filename,'r') as f:\n",
    "        f=f.read()\n",
    "        for ch in f:\n",
    "            count = count + 1\n",
    "    return count\n",
    "filename = ('./DataFiles/data.txt')\n",
    "CharacterCount(filename)"
   ]
  },
  {
   "cell_type": "code",
   "execution_count": 8,
   "metadata": {},
   "outputs": [
    {
     "name": "stdout",
     "output_type": "stream",
     "text": [
      "1\n"
     ]
    }
   ],
   "source": [
    "#line count\n",
    "def lineCount(filename):\n",
    "    count =0\n",
    "    with open(filename,'r') as f:\n",
    "        for i in f:\n",
    "            count=count+1\n",
    "        print(count)\n",
    "filename = ('DataFiles/data.txt')\n",
    "lineCount(filename)"
   ]
  },
  {
   "cell_type": "code",
   "execution_count": 11,
   "metadata": {},
   "outputs": [
    {
     "name": "stdout",
     "output_type": "stream",
     "text": [
      "17\n"
     ]
    }
   ],
   "source": [
    "# File size\n",
    "def Filesize(filename):\n",
    "    count = 0\n",
    "    with open(filename,'r') as f:\n",
    "        f = f.read()\n",
    "        for i in f:\n",
    "            count = count+1\n",
    "    print(count)\n",
    "filename = ('DataFiles/data.txt')\n",
    "Filesize(filename)\n",
    "    "
   ]
  },
  {
   "cell_type": "code",
   "execution_count": 3,
   "metadata": {},
   "outputs": [
    {
     "name": "stdout",
     "output_type": "stream",
     "text": [
      "12\n"
     ]
    }
   ],
   "source": [
    "# Word Count\n",
    "def wordCount(filename):\n",
    "    count = 0\n",
    "    with open(filename,'r') as f:\n",
    "        f = f.read()\n",
    "        for i in f.split():\n",
    "                count =count + 1\n",
    "        print(count)\n",
    "wordCount('DataFiles/data.txt')"
   ]
  },
  {
   "cell_type": "code",
   "execution_count": 11,
   "metadata": {},
   "outputs": [
    {
     "ename": "TypeError",
     "evalue": "'int' object is not callable",
     "output_type": "error",
     "traceback": [
      "\u001b[1;31m---------------------------------------------------------------------------\u001b[0m",
      "\u001b[1;31mTypeError\u001b[0m                                 Traceback (most recent call last)",
      "\u001b[1;32m<ipython-input-11-ebb89fce0c86>\u001b[0m in \u001b[0;36m<module>\u001b[1;34m\u001b[0m\n\u001b[0;32m      9\u001b[0m         \u001b[0mprint\u001b[0m\u001b[1;33m(\u001b[0m\u001b[0mcount\u001b[0m\u001b[1;33m)\u001b[0m\u001b[1;33m\u001b[0m\u001b[1;33m\u001b[0m\u001b[0m\n\u001b[0;32m     10\u001b[0m \u001b[0mfilename\u001b[0m \u001b[1;33m=\u001b[0m \u001b[1;33m(\u001b[0m\u001b[1;34m'DataFiles/data.txt'\u001b[0m\u001b[1;33m)\u001b[0m\u001b[1;33m\u001b[0m\u001b[1;33m\u001b[0m\u001b[0m\n\u001b[1;32m---> 11\u001b[1;33m \u001b[0mUnique\u001b[0m\u001b[1;33m(\u001b[0m\u001b[0mfilename\u001b[0m\u001b[1;33m)\u001b[0m\u001b[1;33m\u001b[0m\u001b[1;33m\u001b[0m\u001b[0m\n\u001b[0m",
      "\u001b[1;32m<ipython-input-11-ebb89fce0c86>\u001b[0m in \u001b[0;36mUnique\u001b[1;34m(filename)\u001b[0m\n\u001b[0;32m      5\u001b[0m         \u001b[0mf\u001b[0m \u001b[1;33m=\u001b[0m \u001b[0mf\u001b[0m\u001b[1;33m.\u001b[0m\u001b[0mread\u001b[0m\u001b[1;33m(\u001b[0m\u001b[1;33m)\u001b[0m\u001b[1;33m\u001b[0m\u001b[1;33m\u001b[0m\u001b[0m\n\u001b[0;32m      6\u001b[0m         \u001b[1;32mfor\u001b[0m \u001b[0mi\u001b[0m \u001b[1;32min\u001b[0m \u001b[0mf\u001b[0m\u001b[1;33m.\u001b[0m\u001b[0msplit\u001b[0m\u001b[1;33m(\u001b[0m\u001b[1;33m)\u001b[0m\u001b[1;33m:\u001b[0m\u001b[1;33m\u001b[0m\u001b[1;33m\u001b[0m\u001b[0m\n\u001b[1;32m----> 7\u001b[1;33m             \u001b[1;32mif\u001b[0m \u001b[0mcount\u001b[0m\u001b[1;33m(\u001b[0m\u001b[0mi\u001b[0m\u001b[1;33m)\u001b[0m \u001b[1;33m==\u001b[0m \u001b[1;36m1\u001b[0m\u001b[1;33m:\u001b[0m\u001b[1;33m\u001b[0m\u001b[1;33m\u001b[0m\u001b[0m\n\u001b[0m\u001b[0;32m      8\u001b[0m                 \u001b[0mcount\u001b[0m \u001b[1;33m=\u001b[0m \u001b[0mcount\u001b[0m \u001b[1;33m+\u001b[0m \u001b[1;36m1\u001b[0m\u001b[1;33m\u001b[0m\u001b[1;33m\u001b[0m\u001b[0m\n\u001b[0;32m      9\u001b[0m         \u001b[0mprint\u001b[0m\u001b[1;33m(\u001b[0m\u001b[0mcount\u001b[0m\u001b[1;33m)\u001b[0m\u001b[1;33m\u001b[0m\u001b[1;33m\u001b[0m\u001b[0m\n",
      "\u001b[1;31mTypeError\u001b[0m: 'int' object is not callable"
     ]
    }
   ],
   "source": [
    "# Unique word Count\n",
    "def Unique(filename):\n",
    "    count = 0\n",
    "    with open(filename,'r') as f:\n",
    "        f = f.read()\n",
    "        for i in f.split():\n",
    "            if count(i) == 1:\n",
    "                count = count + 1\n",
    "        print(count)\n",
    "filename = ('DataFiles/data.txt')\n",
    "Unique(filename)\n"
   ]
  },
  {
   "cell_type": "code",
   "execution_count": 15,
   "metadata": {},
   "outputs": [
    {
     "ename": "SyntaxError",
     "evalue": "invalid syntax (<ipython-input-15-0fd583d055fa>, line 12)",
     "output_type": "error",
     "traceback": [
      "\u001b[1;36m  File \u001b[1;32m\"<ipython-input-15-0fd583d055fa>\"\u001b[1;36m, line \u001b[1;32m12\u001b[0m\n\u001b[1;33m    data.write(user[0]+\",\"user[1][0]+\",\"+user[1][1]+\"\\n\")\u001b[0m\n\u001b[1;37m                             ^\u001b[0m\n\u001b[1;31mSyntaxError\u001b[0m\u001b[1;31m:\u001b[0m invalid syntax\n"
     ]
    }
   ],
   "source": [
    "# contact application\n",
    "contact = {} \n",
    "def addContact():\n",
    "    n = int(input())\n",
    "    for record in range(n):\n",
    "        name = input()\n",
    "        mobile = input()\n",
    "        email = input()\n",
    "        contact[name] = [moblile,email]\n",
    "    with open(\"DataFiles.txt\",\"w\") as data:\n",
    "        for user in contact.items():\n",
    "            data.write(user[0]+\",\"user[1][0]+\",\"+user[1][1]+\"\\n\")\n",
    "    \n",
    "    return \"Data addedd successfully\""
   ]
  },
  {
   "cell_type": "code",
   "execution_count": 11,
   "metadata": {},
   "outputs": [
    {
     "ename": "NameError",
     "evalue": "name 'addContact' is not defined",
     "output_type": "error",
     "traceback": [
      "\u001b[1;31m---------------------------------------------------------------------------\u001b[0m",
      "\u001b[1;31mNameError\u001b[0m                                 Traceback (most recent call last)",
      "\u001b[1;32m<ipython-input-11-d99526e48c28>\u001b[0m in \u001b[0;36m<module>\u001b[1;34m\u001b[0m\n\u001b[1;32m----> 1\u001b[1;33m \u001b[0maddContact\u001b[0m\u001b[1;33m(\u001b[0m\u001b[1;33m)\u001b[0m\u001b[1;33m\u001b[0m\u001b[1;33m\u001b[0m\u001b[0m\n\u001b[0m",
      "\u001b[1;31mNameError\u001b[0m: name 'addContact' is not defined"
     ]
    }
   ],
   "source": [
    "addContact()"
   ]
  },
  {
   "cell_type": "code",
   "execution_count": null,
   "metadata": {},
   "outputs": [],
   "source": [
    "def modifyContacts(filename):\n",
    "    updated_data = {}\n",
    "    name = input(\"Enter user name\")\n",
    "    \n",
    "    with open(filename,'r') as f:\n",
    "        for line in f: \n",
    "            line = line.strip().split(',')\n",
    "            if name in line:\n",
    "                mobile = input(\"Enter mobile number to update:\")\n",
    "                email = input(\"Enter email to update\")\n",
    "                line[1] = mobile\n",
    "                lint[2] = email\n",
    "                updated_data[line[0]] = [line[1],line[2]]\n",
    "            else:\n",
    "                updated_data[line[0]]=[line[1],line[2]]\n",
    "                continue\n",
    "\n",
    "    with open(filename,'w') as info:\n",
    "        for user in updated_data.items():\n",
    "            info.write(user[0]+','+user[1][0]+','+user[1][1]+'\\n')\n",
    "                \n",
    "            print(line)\n",
    "filename = input()\n",
    "modifyContacts(filename)"
   ]
  },
  {
   "cell_type": "code",
   "execution_count": 3,
   "metadata": {},
   "outputs": [
    {
     "name": "stdout",
     "output_type": "stream",
     "text": [
      "3\n",
      "6\n",
      "1 2 3 4 5 6\n",
      "21\n",
      "4\n",
      "1 2 3 4\n",
      "10\n",
      "3\n",
      "1 2 3\n",
      "6\n"
     ]
    }
   ],
   "source": [
    "def sumoflist(a,li):\n",
    "    return sum(li)\n",
    "t = int(input())\n",
    "for i in range(t):\n",
    "    a = int(input())\n",
    "    li = list(map(int,input().split()))\n",
    "    print(sumoflist(a,li))\n",
    "    "
   ]
  },
  {
   "cell_type": "code",
   "execution_count": 5,
   "metadata": {},
   "outputs": [
    {
     "name": "stdout",
     "output_type": "stream",
     "text": [
      "badulla 44 55 padna 76\n",
      "175\n"
     ]
    }
   ],
   "source": [
    "def sumOfDigits(li):\n",
    "    sum = 0\n",
    "    for i in li:\n",
    "        if i.isdigit():\n",
    "            sum += int(i)\n",
    "    return sum\n",
    "line = input().split()# badulla 44 55 padna 76\n",
    "#print(line)\n",
    "rs = sumOfDigits(line)\n",
    "print(rs)"
   ]
  },
  {
   "cell_type": "code",
   "execution_count": 19,
   "metadata": {},
   "outputs": [
    {
     "name": "stdout",
     "output_type": "stream",
     "text": [
      "badulla 44 55 padna 76\n",
      "[44, 55, 76]\n",
      "175\n"
     ]
    }
   ],
   "source": [
    "import re\n",
    "def sumOfdigits(li):\n",
    "    return sum(li)\n",
    "#line = input()\n",
    "#digits = re.findall('[0-9]+',line)\n",
    "digits = list(map(int,re.findall('[0-9]+',input())))\n",
    "print(digits)\n",
    "print(sumOfdigits(digits))"
   ]
  },
  {
   "cell_type": "code",
   "execution_count": null,
   "metadata": {},
   "outputs": [],
   "source": []
  }
 ],
 "metadata": {
  "kernelspec": {
   "display_name": "Python 3",
   "language": "python",
   "name": "python3"
  },
  "language_info": {
   "codemirror_mode": {
    "name": "ipython",
    "version": 3
   },
   "file_extension": ".py",
   "mimetype": "text/x-python",
   "name": "python",
   "nbconvert_exporter": "python",
   "pygments_lexer": "ipython3",
   "version": "3.7.3"
  }
 },
 "nbformat": 4,
 "nbformat_minor": 2
}
