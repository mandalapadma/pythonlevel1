{
 "cells": [
  {
   "cell_type": "code",
   "execution_count": 9,
   "metadata": {},
   "outputs": [
    {
     "ename": "SyntaxError",
     "evalue": "invalid syntax (<ipython-input-9-2f459788df51>, line 21)",
     "output_type": "error",
     "traceback": [
      "\u001b[1;36m  File \u001b[1;32m\"<ipython-input-9-2f459788df51>\"\u001b[1;36m, line \u001b[1;32m21\u001b[0m\n\u001b[1;33m    print((sum[j-1]-sum[i-2]) // (j-i+1)))\u001b[0m\n\u001b[1;37m                                         ^\u001b[0m\n\u001b[1;31mSyntaxError\u001b[0m\u001b[1;31m:\u001b[0m invalid syntax\n"
     ]
    }
   ],
   "source": [
    "# Read no of array elementes and no of quries\n",
    "# Play with Numbers\n",
    "n = input().split()\n",
    "n[0],n[1] = int(n[0]),int(n[1])\n",
    "#Read array elements\n",
    "a = input().split()\n",
    "sum = []#Initalize cumulative suj array\n",
    "#cumulative sum\n",
    "for i in range(0, n[0]):\n",
    "    if i == 0:\n",
    "        sum.append(int(a[i]))\n",
    "    else:\n",
    "        sum.append(int(sum[i-1])+int(a[i])\n",
    "del a\n",
    "# Read each query and calculate the average\n",
    "for k in range(0,n[1]):\n",
    "    inq = input().split()\n",
    "    i = int(inq[0])\n",
    "    j = int(inq[1])\n",
    "    if  i > 1:\n",
    "        print((sum[j-1]-sum[i-2]) // (j-i+1)))\n",
    "    else:\n",
    "        print(sum[j-1] // (j-i+1))"
   ]
  },
  {
   "cell_type": "code",
   "execution_count": 10,
   "metadata": {},
   "outputs": [
    {
     "ename": "SyntaxError",
     "evalue": "invalid syntax (<ipython-input-10-f8864d8bbaf4>, line 5)",
     "output_type": "error",
     "traceback": [
      "\u001b[1;36m  File \u001b[1;32m\"<ipython-input-10-f8864d8bbaf4>\"\u001b[1;36m, line \u001b[1;32m5\u001b[0m\n\u001b[1;33m    for i in range(0,n[0])\u001b[0m\n\u001b[1;37m                          ^\u001b[0m\n\u001b[1;31mSyntaxError\u001b[0m\u001b[1;31m:\u001b[0m invalid syntax\n"
     ]
    }
   ],
   "source": [
    "n = input().split()\n",
    "n[0],n[1] = int(n[0]),int(n[1])\n",
    "a = input().split()\n",
    "sum = []\n",
    "for i in range(0,n[0])\n",
    "    if i==0:\n",
    "        sum.append(int(a[i]))\n",
    "    else:\n",
    "        sum.append(int(sum[i-1]))+int(a[i])\n",
    "del a\n",
    "for k in range(0,n[1])\n",
    "    inq = input().split()\n",
    "    i = int(inq[0])\n",
    "    j = int(inq[1])\n",
    "    if i>1:\n",
    "        print(sum[j-1]-sum[i-2]) // (j-i+1))\n",
    "    else:\n",
    "        print(sum[j-1]) // (j-i+1)"
   ]
  },
  {
   "cell_type": "code",
   "execution_count": 6,
   "metadata": {},
   "outputs": [
    {
     "name": "stdout",
     "output_type": "stream",
     "text": [
      "range(0, 10)\n"
     ]
    }
   ],
   "source": [
    "print(range(10))"
   ]
  },
  {
   "cell_type": "code",
   "execution_count": 7,
   "metadata": {},
   "outputs": [
    {
     "name": "stdout",
     "output_type": "stream",
     "text": [
      "[0, 1, 2, 3, 4, 5, 6, 7, 8, 9]\n"
     ]
    }
   ],
   "source": [
    "print(list(range(0,10)))"
   ]
  },
  {
   "cell_type": "code",
   "execution_count": 10,
   "metadata": {},
   "outputs": [],
   "source": [
    "if None:\n",
    "    print(\"Hello\")"
   ]
  },
  {
   "cell_type": "code",
   "execution_count": 12,
   "metadata": {},
   "outputs": [
    {
     "name": "stdout",
     "output_type": "stream",
     "text": [
      "2\n",
      "1\n"
     ]
    }
   ],
   "source": [
    "for i in [1,0]:\n",
    "    print(i+1)\n",
    "    "
   ]
  },
  {
   "cell_type": "code",
   "execution_count": 13,
   "metadata": {},
   "outputs": [
    {
     "name": "stdout",
     "output_type": "stream",
     "text": [
      "10\n"
     ]
    }
   ],
   "source": [
    "i=sum=0\n",
    "while i<=4:\n",
    "    sum=sum+i\n",
    "    i=i+1\n",
    "print(sum)"
   ]
  },
  {
   "cell_type": "code",
   "execution_count": 15,
   "metadata": {},
   "outputs": [
    {
     "name": "stdout",
     "output_type": "stream",
     "text": [
      "[1, 2, 3, 4]\n"
     ]
    }
   ],
   "source": [
    "numbers = [1,2,3,4]\n",
    "print(numbers)"
   ]
  },
  {
   "cell_type": "code",
   "execution_count": 16,
   "metadata": {},
   "outputs": [
    {
     "name": "stdout",
     "output_type": "stream",
     "text": [
      "True\n"
     ]
    }
   ],
   "source": [
    "print(3 >= 3)"
   ]
  },
  {
   "cell_type": "code",
   "execution_count": 20,
   "metadata": {},
   "outputs": [
    {
     "name": "stdout",
     "output_type": "stream",
     "text": [
      "8.7,4.3,13.0\n"
     ]
    }
   ],
   "source": [
    "#add two numbers\n",
    "n1=8.7\n",
    "n2=4.3\n",
    "sum=float(n1)+float(n2)\n",
    "print(n1,n2,sum,sep=\",\")"
   ]
  },
  {
   "cell_type": "code",
   "execution_count": 8,
   "metadata": {},
   "outputs": [
    {
     "name": "stdout",
     "output_type": "stream",
     "text": [
      "77\n",
      "84\n",
      "161\n"
     ]
    }
   ],
   "source": [
    "n1=int(input())\n",
    "n2=int(input())\n",
    "sum=int(n1)+int(n2)\n",
    "print(sum)"
   ]
  },
  {
   "cell_type": "code",
   "execution_count": 2,
   "metadata": {},
   "outputs": [
    {
     "ename": "SyntaxError",
     "evalue": "invalid syntax (<ipython-input-2-17de136dab8a>, line 7)",
     "output_type": "error",
     "traceback": [
      "\u001b[1;36m  File \u001b[1;32m\"<ipython-input-2-17de136dab8a>\"\u001b[1;36m, line \u001b[1;32m7\u001b[0m\n\u001b[1;33m    if j  pattern:\u001b[0m\n\u001b[1;37m                ^\u001b[0m\n\u001b[1;31mSyntaxError\u001b[0m\u001b[1;31m:\u001b[0m invalid syntax\n"
     ]
    }
   ],
   "source": [
    "T=int(input())\n",
    "n=input().split()\n",
    "for i in range(T):\n",
    "    st=input()\n",
    "    pattern=input()\n",
    "    for j in n:\n",
    "        if j  pattern:\n",
    "            print(\"j\")\n",
    "        else:\n",
    "            print(\"No match found\")"
   ]
  },
  {
   "cell_type": "markdown",
   "metadata": {},
   "source": [
    "#### who is the lucky person\n",
    "- [115+97+105,114+97+109]"
   ]
  },
  {
   "cell_type": "code",
   "execution_count": 109,
   "metadata": {},
   "outputs": [
    {
     "name": "stdout",
     "output_type": "stream",
     "text": [
      "[2, 5]\n",
      "{'sai': 2, 'ram': 5}\n"
     ]
    }
   ],
   "source": [
    "st = [\"sai\",\"ram\"]\n",
    "li=[]\n",
    "#lucky_person = {\"sai\":2,\"ram\":5}\n",
    "for i in st:\n",
    "    total=0\n",
    "    for ch in i:\n",
    "        total+=ord(ch)\n",
    "    #print(total)\n",
    "    s=0\n",
    "    while (total!=0):\n",
    "        r=total%10\n",
    "        s+=r\n",
    "        total=total//10\n",
    "    #print(s)\n",
    "    s1=0\n",
    "    while(s!=0):\n",
    "        rem=s%10\n",
    "        s1+=rem\n",
    "        s=s//10\n",
    "    #print(s1)\n",
    "    li.append(s1)\n",
    "print(li)\n",
    "value=dict(zip(st,li))\n",
    "print(value)\n"
   ]
  },
  {
   "cell_type": "code",
   "execution_count": null,
   "metadata": {},
   "outputs": [],
   "source": [
    "s = [\"sai\",\"ram\"]\n",
    "def asciiSum(name):\n",
    "    return str(sum(list(map(ord,name))))"
   ]
  },
  {
   "cell_type": "code",
   "execution_count": 105,
   "metadata": {},
   "outputs": [
    {
     "ename": "NameError",
     "evalue": "name 'asciiSum' is not defined",
     "output_type": "error",
     "traceback": [
      "\u001b[1;31m---------------------------------------------------------------------------\u001b[0m",
      "\u001b[1;31mNameError\u001b[0m                                 Traceback (most recent call last)",
      "\u001b[1;32m<ipython-input-105-0c5d3538a9fb>\u001b[0m in \u001b[0;36m<module>\u001b[1;34m\u001b[0m\n\u001b[1;32m----> 1\u001b[1;33m \u001b[0masciiSum\u001b[0m\u001b[1;33m(\u001b[0m\u001b[1;34m\"sai\"\u001b[0m\u001b[1;33m)\u001b[0m\u001b[1;33m\u001b[0m\u001b[1;33m\u001b[0m\u001b[0m\n\u001b[0m",
      "\u001b[1;31mNameError\u001b[0m: name 'asciiSum' is not defined"
     ]
    }
   ],
   "source": [
    "asciiSum(\"sai\")"
   ]
  },
  {
   "cell_type": "code",
   "execution_count": 63,
   "metadata": {},
   "outputs": [
    {
     "name": "stdout",
     "output_type": "stream",
     "text": [
      "115\n",
      "212\n",
      "317\n"
     ]
    }
   ],
   "source": [
    "s=[\"sai\",\"ram\"]\n",
    "for i in s[0].split():\n",
    "    total=0\n",
    "    for ch in s[0]:\n",
    "        total+=ord(ch)\n",
    "        print(total)\n",
    "        \n",
    "        \n"
   ]
  },
  {
   "cell_type": "code",
   "execution_count": null,
   "metadata": {},
   "outputs": [],
   "source": []
  }
 ],
 "metadata": {
  "kernelspec": {
   "display_name": "Python 3",
   "language": "python",
   "name": "python3"
  },
  "language_info": {
   "codemirror_mode": {
    "name": "ipython",
    "version": 3
   },
   "file_extension": ".py",
   "mimetype": "text/x-python",
   "name": "python",
   "nbconvert_exporter": "python",
   "pygments_lexer": "ipython3",
   "version": "3.7.3"
  }
 },
 "nbformat": 4,
 "nbformat_minor": 2
}
