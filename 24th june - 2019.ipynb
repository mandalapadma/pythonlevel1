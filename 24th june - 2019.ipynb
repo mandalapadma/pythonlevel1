{
 "cells": [
  {
   "cell_type": "markdown",
   "metadata": {},
   "source": [
    "## Date : 24th june - 2019\n",
    "## Day Objectives:\n",
    "\n",
    "#### contacts Application\n",
    "    - Add , Search , List , Modify delete contacts\n",
    "#### Find and replace Application\n",
    "    - Count the total number of occurances(frequency) of a word\n",
    "    - If word is existing \n",
    "    - Replace all occurances of a word with another word\n",
    "    \n",
    "#### Marks Analysis Application\n",
    "    - Generate the marks file for n students \n",
    "    - Input : Marks text file - each line contains marks of one student\n",
    "    - Genetates  a report with the following information\n",
    "        - Class Average\n",
    "        - % of students passed\n",
    "        - % of failed students\n",
    "        - % of students with distinction\n",
    "        - Highest Mark Frequency\n",
    "        - Lowest Mark Frequency"
   ]
  },
  {
   "cell_type": "code",
   "execution_count": 8,
   "metadata": {},
   "outputs": [],
   "source": [
    "# Function to generate marks data for n students\n",
    "from random import randint\n",
    "def generateMarks(n,lb,ub):\n",
    "    with open('DataFiles/marks.txt','w') as f:\n",
    "        for i in range(0,n):\n",
    "            r = randint(lb,ub)\n",
    "            f.write(str(r)+'\\n')\n",
    "    return\n",
    "generateMarks(5,0,100)\n",
    "    \n",
    "    \n",
    "\n",
    "    "
   ]
  },
  {
   "cell_type": "code",
   "execution_count": 14,
   "metadata": {},
   "outputs": [
    {
     "data": {
      "text/plain": [
       "5.5"
      ]
     },
     "execution_count": 14,
     "metadata": {},
     "output_type": "execute_result"
    }
   ],
   "source": [
    "def average(lb,ub):\n",
    "    sum = 0\n",
    "    count = 0\n",
    "    #with open('DataFiles/marks.txt','w') as f:\n",
    "    for i in range(lb,ub+1):\n",
    "        sum = sum+i\n",
    "        count = ub-lb+1\n",
    "        avg = sum/count\n",
    "    print(avg)\n",
    "average(1,10)\n",
    "            \n",
    "#ClassAverage\n",
    "        "
   ]
  },
  {
   "cell_type": "code",
   "execution_count": 26,
   "metadata": {},
   "outputs": [],
   "source": [
    "# Class Average\n",
    "def ClassAverage(filepath):\n",
    "    sum = 0\n",
    "    count = 0\n",
    "    with open('filepath','r') as f:\n",
    "        for i in range():\n",
    "            sum = sum + i\n",
    "            count = count +1\n",
    "            avg = sum/count\n",
    "        f.write(str(avg))\n",
    "    return\n",
    "ClassAverage(20)"
   ]
  },
  {
   "cell_type": "code",
   "execution_count": null,
   "metadata": {},
   "outputs": [],
   "source": [
    "# class Average\n",
    "from random import randint\n",
    "def generateMarks(n,lb,ub):\n",
    "    with open('DataFile/marks.txt','w') as f:\n",
    "        for i in range(0,n):\n",
    "            "
   ]
  },
  {
   "cell_type": "code",
   "execution_count": 28,
   "metadata": {},
   "outputs": [
    {
     "ename": "NameError",
     "evalue": "name 'readFile' is not defined",
     "output_type": "error",
     "traceback": [
      "\u001b[1;31m---------------------------------------------------------------------------\u001b[0m",
      "\u001b[1;31mNameError\u001b[0m                                 Traceback (most recent call last)",
      "\u001b[1;32m<ipython-input-28-2a0058de76a3>\u001b[0m in \u001b[0;36m<module>\u001b[1;34m\u001b[0m\n\u001b[1;32m----> 1\u001b[1;33m \u001b[0mreadFile\u001b[0m\u001b[1;33m(\u001b[0m\u001b[1;34m'DataFile/marks.txt'\u001b[0m\u001b[1;33m,\u001b[0m\u001b[1;34m\"r\"\u001b[0m\u001b[1;33m)\u001b[0m\u001b[1;33m\u001b[0m\u001b[1;33m\u001b[0m\u001b[0m\n\u001b[0m",
      "\u001b[1;31mNameError\u001b[0m: name 'readFile' is not defined"
     ]
    }
   ],
   "source": [
    "readFile('DataFile/marks.txt',\"r\")"
   ]
  },
  {
   "cell_type": "code",
   "execution_count": null,
   "metadata": {},
   "outputs": [],
   "source": []
  }
 ],
 "metadata": {
  "kernelspec": {
   "display_name": "Python 3",
   "language": "python",
   "name": "python3"
  },
  "language_info": {
   "codemirror_mode": {
    "name": "ipython",
    "version": 3
   },
   "file_extension": ".py",
   "mimetype": "text/x-python",
   "name": "python",
   "nbconvert_exporter": "python",
   "pygments_lexer": "ipython3",
   "version": "3.7.3"
  }
 },
 "nbformat": 4,
 "nbformat_minor": 2
}
