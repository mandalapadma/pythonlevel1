{
 "cells": [
  {
   "cell_type": "code",
   "execution_count": 2,
   "metadata": {},
   "outputs": [
    {
     "name": "stdout",
     "output_type": "stream",
     "text": [
      "A p s s d c\n",
      "Apssdc\n"
     ]
    }
   ],
   "source": [
    "#Print given characters as a word with starting character capital form and remaining lower\n",
    "#A P S S D C\n",
    "#Apssdc\n",
    "def char(a):\n",
    "    print(\"\".join(a).capitalize())\n",
    "n = input().split()\n",
    "char(n)"
   ]
  },
  {
   "cell_type": "code",
   "execution_count": 59,
   "metadata": {},
   "outputs": [
    {
     "name": "stdout",
     "output_type": "stream",
     "text": [
      "hai hello world\n",
      "hello\n",
      "world\n"
     ]
    }
   ],
   "source": [
    "#Print the maximum length word of given words\n",
    "#Hai hello world\n",
    "#hello\n",
    "#world\n",
    "words=input().split()\n",
    "lengths=[]\n",
    "def lengthOfWord(n):\n",
    "    for word in n:\n",
    "        lengths.append(len(word))\n",
    "    max_length=max(lengths)\n",
    "    for word in n:\n",
    "        if max_length==len(word):\n",
    "            print(word)\n",
    "lengthOfWord(words)\n",
    "    "
   ]
  },
  {
   "cell_type": "code",
   "execution_count": 61,
   "metadata": {},
   "outputs": [
    {
     "name": "stdout",
     "output_type": "stream",
     "text": [
      "ramu ravi balu\n",
      "r\n",
      "-1\n"
     ]
    }
   ],
   "source": [
    "#Print all the words which starts with the given character, If no words matches with the given condition you should print -1\n",
    "#ramu ravi balu\n",
    "#r\n",
    "#ramu\n",
    "#ravi\n",
    "n=input().split()\n",
    "c = input()\n",
    "def word(a):\n",
    "    match=0\n",
    "    for i in a:\n",
    "        if i.startswith(\"c\"):\n",
    "            print(word)\n",
    "            match+=1\n",
    "if match==0:\n",
    "    print(-1)\n",
    "word(n)\n",
    "\n",
    "            \n"
   ]
  },
  {
   "cell_type": "code",
   "execution_count": 54,
   "metadata": {},
   "outputs": [
    {
     "name": "stdout",
     "output_type": "stream",
     "text": [
      "ramu ravi balu raju mahesh\n",
      "mahesh\n"
     ]
    }
   ],
   "source": [
    "#Print all the words which words not ends with vowels(a,e,i,o,u)\n",
    "#ramu ravi balu raju mahesh\n",
    "#mahesh\n",
    "words = input().split()\n",
    "word = [\"a\",\"e\",\"i\",\"o\",\"u\"]\n",
    "def vowels(n):\n",
    "    for ch in n:\n",
    "        if ch[-1] not in word:\n",
    "            print(ch)\n",
    "vowels(words)"
   ]
  },
  {
   "cell_type": "code",
   "execution_count": 56,
   "metadata": {},
   "outputs": [
    {
     "name": "stdout",
     "output_type": "stream",
     "text": [
      "ramu akash balu\n",
      "akash\n"
     ]
    }
   ],
   "source": [
    "#Print all the words which word contains duplicate characters\n",
    "#ramu akash balu\n",
    "#akash\n",
    "names = input().split()\n",
    "def words(n):\n",
    "    for name in n:\n",
    "        for ch in name:\n",
    "            if name.count(ch)>1:\n",
    "                print(name)\n",
    "                break\n",
    "words(names)"
   ]
  },
  {
   "cell_type": "code",
   "execution_count": null,
   "metadata": {},
   "outputs": [],
   "source": []
  },
  {
   "cell_type": "code",
   "execution_count": 74,
   "metadata": {},
   "outputs": [
    {
     "name": "stdout",
     "output_type": "stream",
     "text": [
      "HellowOrld\n",
      "HellowOrld\n"
     ]
    }
   ],
   "source": [
    "#Swap the case of all characters in given string except last character\n",
    "#HellowOrld\n",
    "#hELLOWoRLd\n",
    "word= input()\n",
    "def char(n):\n",
    "    if n[:-1].swapcase()+n[-1]:\n",
    "        print(n)\n",
    "char(word)\n",
    "\n"
   ]
  },
  {
   "cell_type": "code",
   "execution_count": 77,
   "metadata": {},
   "outputs": [
    {
     "name": "stdout",
     "output_type": "stream",
     "text": [
      "HelloWorld\n",
      "2\n"
     ]
    }
   ],
   "source": [
    "#Print the number of words in a given string (here word starting character contains UPPER letter)\n",
    "#HelloWorld\n",
    "#2\n",
    "word = input()\n",
    "def numberOfWords(n):\n",
    "    count=0\n",
    "    for ch in n:\n",
    "        if ch.isupper():\n",
    "            count+=1\n",
    "    print(count)\n",
    "numberOfWords(word)\n",
    "\n"
   ]
  },
  {
   "cell_type": "code",
   "execution_count": 80,
   "metadata": {},
   "outputs": [
    {
     "name": "stdout",
     "output_type": "stream",
     "text": [
      "www.way2sms.com\n",
      "1 \n",
      " 12 \n",
      " 2\n"
     ]
    }
   ],
   "source": [
    "#Print the number of digits, alphabets and any other \n",
    "#www.way2sms.com\n",
    "#DIGITS 1\n",
    "#ALPHABETS  12\n",
    "#OTHER 2\n",
    "n = input()\n",
    "def digit(num):\n",
    "    count1 = 0\n",
    "    count2 = 0\n",
    "    count3 = 0\n",
    "    for i in num:\n",
    "        if i.isdigit():\n",
    "            count1=count1+1\n",
    "        \n",
    "        elif i.isalpha():\n",
    "            count2=count2+1\n",
    "        else:\n",
    "            count3=count3+1\n",
    "    print(count1,\"\\n\",count2,\"\\n\",count3)\n",
    "digit(n)\n",
    "        "
   ]
  },
  {
   "cell_type": "markdown",
   "metadata": {},
   "source": [
    "#### Hackerhearth problems"
   ]
  },
  {
   "cell_type": "code",
   "execution_count": 89,
   "metadata": {},
   "outputs": [
    {
     "name": "stdout",
     "output_type": "stream",
     "text": [
      "5\n",
      "120\n"
     ]
    }
   ],
   "source": [
    "#find-factorial\n",
    "n = int(input())\n",
    "fact=1\n",
    "for i in range(1,n+1):\n",
    "    fact*=i\n",
    "print(fact)\n",
    "    \n",
    "\n"
   ]
  },
  {
   "cell_type": "code",
   "execution_count": 93,
   "metadata": {},
   "outputs": [
    {
     "name": "stdout",
     "output_type": "stream",
     "text": [
      "6\n",
      "720\n"
     ]
    }
   ],
   "source": [
    "# using functions\n",
    "def factorial(n):\n",
    "    fact=1\n",
    "    for i in range(1,n+1):\n",
    "        fact*=i\n",
    "    print(fact)\n",
    "num = int(input())\n",
    "factorial(num)\n"
   ]
  },
  {
   "cell_type": "code",
   "execution_count": 6,
   "metadata": {},
   "outputs": [
    {
     "name": "stdout",
     "output_type": "stream",
     "text": [
      "180\n",
      "3\n",
      "567 789\n",
      "CROP IT\n",
      "456 876\n",
      "CROP IT\n",
      "180 180\n",
      "ACCEPTED\n"
     ]
    }
   ],
   "source": [
    "def Roy(l,w,h):\n",
    "        if w<l or h<l:\n",
    "            print(\"UPLOAD ANOTHER\")\n",
    "        elif w==h:\n",
    "            print(\"ACCEPTED\")\n",
    "        else:\n",
    "            print(\"CROP IT\")\n",
    "l=int(input())\n",
    "n=int(input())\n",
    "for i in range(1,n+1):\n",
    "    s=input().split()\n",
    "    w=int(s[0])\n",
    "    h=int(s[1])\n",
    "    Roy(l,w,h)"
   ]
  },
  {
   "cell_type": "code",
   "execution_count": 63,
   "metadata": {},
   "outputs": [
    {
     "name": "stdout",
     "output_type": "stream",
     "text": [
      "5\n",
      "100\n",
      "130\n",
      "YES\n",
      "90\n",
      "NO\n",
      "100\n",
      "YES\n",
      "45\n",
      "NO\n",
      "110\n",
      "YES\n"
     ]
    }
   ],
   "source": [
    "n = int(input())\n",
    "x = int(input())\n",
    "\n",
    "#def Goki(x,y):\n",
    "for i in range(n):\n",
    "    y = int(input())\n",
    "    if y >= x:\n",
    "        print(\"YES\")\n",
    "    else:\n",
    "        print(\"NO\")\n"
   ]
  },
  {
   "cell_type": "code",
   "execution_count": 55,
   "metadata": {},
   "outputs": [
    {
     "data": {
      "text/plain": [
       "[1, 2, 3, 4, 5]"
      ]
     },
     "execution_count": 55,
     "metadata": {},
     "output_type": "execute_result"
    }
   ],
   "source": [
    "nums=[3,4,3,1,2,5]\n",
    "list(set(nums))"
   ]
  },
  {
   "cell_type": "code",
   "execution_count": 23,
   "metadata": {},
   "outputs": [
    {
     "data": {
      "text/plain": [
       "{'a', 'b', 'c', 'd'}"
      ]
     },
     "execution_count": 23,
     "metadata": {},
     "output_type": "execute_result"
    }
   ],
   "source": [
    "s ='abacdac'\n",
    "set(s)"
   ]
  },
  {
   "cell_type": "code",
   "execution_count": 25,
   "metadata": {},
   "outputs": [
    {
     "name": "stdout",
     "output_type": "stream",
     "text": [
      "akash\n"
     ]
    }
   ],
   "source": [
    "words=[\"ramu\",\"akash\",\"ravi\",\"balu\"]\n",
    "for word in words:\n",
    "    #print(set(word))\n",
    "    if len(word)!=len(set(word)):\n",
    "        print(word)"
   ]
  },
  {
   "cell_type": "markdown",
   "metadata": {},
   "source": [
    "### Sets:"
   ]
  },
  {
   "cell_type": "code",
   "execution_count": 26,
   "metadata": {},
   "outputs": [
    {
     "data": {
      "text/plain": [
       "{'a', 'b', 'c', 'd'}"
      ]
     },
     "execution_count": 26,
     "metadata": {},
     "output_type": "execute_result"
    }
   ],
   "source": [
    "s=set(s)\n",
    "s "
   ]
  },
  {
   "cell_type": "code",
   "execution_count": 27,
   "metadata": {},
   "outputs": [
    {
     "data": {
      "text/plain": [
       "['__and__',\n",
       " '__class__',\n",
       " '__contains__',\n",
       " '__delattr__',\n",
       " '__dir__',\n",
       " '__doc__',\n",
       " '__eq__',\n",
       " '__format__',\n",
       " '__ge__',\n",
       " '__getattribute__',\n",
       " '__gt__',\n",
       " '__hash__',\n",
       " '__iand__',\n",
       " '__init__',\n",
       " '__init_subclass__',\n",
       " '__ior__',\n",
       " '__isub__',\n",
       " '__iter__',\n",
       " '__ixor__',\n",
       " '__le__',\n",
       " '__len__',\n",
       " '__lt__',\n",
       " '__ne__',\n",
       " '__new__',\n",
       " '__or__',\n",
       " '__rand__',\n",
       " '__reduce__',\n",
       " '__reduce_ex__',\n",
       " '__repr__',\n",
       " '__ror__',\n",
       " '__rsub__',\n",
       " '__rxor__',\n",
       " '__setattr__',\n",
       " '__sizeof__',\n",
       " '__str__',\n",
       " '__sub__',\n",
       " '__subclasshook__',\n",
       " '__xor__',\n",
       " 'add',\n",
       " 'clear',\n",
       " 'copy',\n",
       " 'difference',\n",
       " 'difference_update',\n",
       " 'discard',\n",
       " 'intersection',\n",
       " 'intersection_update',\n",
       " 'isdisjoint',\n",
       " 'issubset',\n",
       " 'issuperset',\n",
       " 'pop',\n",
       " 'remove',\n",
       " 'symmetric_difference',\n",
       " 'symmetric_difference_update',\n",
       " 'union',\n",
       " 'update']"
      ]
     },
     "execution_count": 27,
     "metadata": {},
     "output_type": "execute_result"
    }
   ],
   "source": [
    "dir(s)"
   ]
  },
  {
   "cell_type": "code",
   "execution_count": 28,
   "metadata": {},
   "outputs": [
    {
     "data": {
      "text/plain": [
       "{'a', 'b', 'c', 'd'}"
      ]
     },
     "execution_count": 28,
     "metadata": {},
     "output_type": "execute_result"
    }
   ],
   "source": [
    "s"
   ]
  },
  {
   "cell_type": "code",
   "execution_count": 31,
   "metadata": {},
   "outputs": [
    {
     "data": {
      "text/plain": [
       "{'a', 'b', 'c', 'd', 'p'}"
      ]
     },
     "execution_count": 31,
     "metadata": {},
     "output_type": "execute_result"
    }
   ],
   "source": [
    "s.add(\"p\")\n",
    "s"
   ]
  },
  {
   "cell_type": "code",
   "execution_count": 32,
   "metadata": {},
   "outputs": [
    {
     "data": {
      "text/plain": [
       "{'a', 'b', 'c', 'd', 'p'}"
      ]
     },
     "execution_count": 32,
     "metadata": {},
     "output_type": "execute_result"
    }
   ],
   "source": [
    "s.add(\"a\")\n",
    "s\n"
   ]
  },
  {
   "cell_type": "code",
   "execution_count": 37,
   "metadata": {},
   "outputs": [
    {
     "data": {
      "text/plain": [
       "False"
      ]
     },
     "execution_count": 37,
     "metadata": {},
     "output_type": "execute_result"
    }
   ],
   "source": [
    "a={1,2,3,4}\n",
    "b={3,4,2,5}\n",
    "a.union(b)\n",
    "a.difference(b)\n",
    "a.intersection(b)\n",
    "a.isdisjoint(b)\n"
   ]
  },
  {
   "cell_type": "code",
   "execution_count": 42,
   "metadata": {},
   "outputs": [],
   "source": [
    "a={1,2,3,4}\n",
    "b={5,6,7,8}\n",
    "a.isdisjoint(b)\n",
    "a.isdisjoint?\n",
    "a.add?"
   ]
  },
  {
   "cell_type": "code",
   "execution_count": 2,
   "metadata": {},
   "outputs": [
    {
     "name": "stdout",
     "output_type": "stream",
     "text": [
      "1\n",
      "1\n",
      "2\n",
      "2\n",
      "42\n"
     ]
    }
   ],
   "source": [
    "while (True):\n",
    "    n = int(input())\n",
    "    if n!=42:\n",
    "        print(n)\n",
    "    else:\n",
    "        break"
   ]
  },
  {
   "cell_type": "code",
   "execution_count": 4,
   "metadata": {},
   "outputs": [
    {
     "name": "stdout",
     "output_type": "stream",
     "text": [
      "Hello kirit\n",
      "Hello kirit\n"
     ]
    }
   ],
   "source": [
    "n = input()\n",
    "print(n)"
   ]
  },
  {
   "cell_type": "code",
   "execution_count": 5,
   "metadata": {},
   "outputs": [
    {
     "name": "stdout",
     "output_type": "stream",
     "text": [
      "Hello kirit\n"
     ]
    }
   ],
   "source": [
    "print(\"Hello kirit\")"
   ]
  },
  {
   "cell_type": "code",
   "execution_count": null,
   "metadata": {},
   "outputs": [],
   "source": [
    "n = input()\n"
   ]
  }
 ],
 "metadata": {
  "kernelspec": {
   "display_name": "Python 3",
   "language": "python",
   "name": "python3"
  },
  "language_info": {
   "codemirror_mode": {
    "name": "ipython",
    "version": 3
   },
   "file_extension": ".py",
   "mimetype": "text/x-python",
   "name": "python",
   "nbconvert_exporter": "python",
   "pygments_lexer": "ipython3",
   "version": "3.7.3"
  }
 },
 "nbformat": 4,
 "nbformat_minor": 2
}
