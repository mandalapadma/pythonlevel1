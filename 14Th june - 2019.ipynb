{
 "cells": [
  {
   "cell_type": "markdown",
   "metadata": {},
   "source": [
    " ## Problem Solving and programming in python - Day 4\n",
    "### Date - 14 june 2019\n",
    "#### Day Objectivies\n",
    "- Python Data structures\n",
    "- Lists\n",
    "- Tuples\n",
    "- Dictionaries\n",
    "- Basic problem set on Data Structures\n",
    "- Advanced problem set\n",
    "- Packages and Modules in python"
   ]
  },
  {
   "cell_type": "code",
   "execution_count": null,
   "metadata": {},
   "outputs": [],
   "source": []
  },
  {
   "cell_type": "markdown",
   "metadata": {},
   "source": [
    "## Python data structures\n",
    "### Lists"
   ]
  },
  {
   "cell_type": "code",
   "execution_count": 108,
   "metadata": {},
   "outputs": [],
   "source": [
    "li = [123,978,654]\n",
    "\n",
    "li # Access the entrie list\n",
    "li[1] # Accessing an element with index in a list\n",
    "li[1:] # all elements from second to last element\n",
    "li[0:]\n",
    "li[ : -1]\n",
    "li[::-1 ]\n",
    "li = li[::-1]# Reversing list elements and reasigning to original list\n",
    "li\n",
    "li = li[::-1]\n",
    "li [ : : 2]# accessing even index elements\n",
    "li [ 1:: 2]# accessing odd index elements\n",
    "li[:2:]\n",
    "# Lists can be accessed , manipulated in two different ways\n",
    "  # Direct Referencing -accessing throw square barckets index -> [index]\n",
    "  # Indirect Referencing - through functions\n",
    "\n",
    "li.append(345)# adding an element to enc of the list\n",
    "\n",
    "li.insert(1,234)# adding an element at a particular index\n",
    "li.sort()# sort elements in ascending order\n",
    "li.pop()# Remove the last element in list\n",
    "li.pop(1)#Remove an element at a particular index\n",
    "\n",
    "li2 = [234,456,789]\n",
    "\n",
    "li.extend(li2)# merge list2 into list 1\n",
    "li2.extend(li)\n",
    "sum(li)\n",
    "max(li)\n",
    "min(li)\n",
    "len(li)\n",
    "li.sort()\n",
    "sum(li)/len(li)# Average of elements in list \n",
    "#average of all alternate elements\n",
    "li[:: 2]\n",
    "li = li[::2]\n",
    "sum(li[::2])/len(li[::2])# average of even index positions\n",
    "\n",
    "sum(li[1::2])/len(li[1::2]) # average of odd index positions\n",
    "li = li[-2::1]\n",
    "max(li)-1\n",
    "li.index(345)\n",
    "try:\n",
    "    li.index(345)\n",
    "except:\n",
    "    print(-1)\n"
   ]
  },
  {
   "cell_type": "code",
   "execution_count": 90,
   "metadata": {},
   "outputs": [
    {
     "data": {
      "text/plain": [
       "456"
      ]
     },
     "execution_count": 90,
     "metadata": {},
     "output_type": "execute_result"
    }
   ],
   "source": [
    "# Function to identify the second larget in a list\n",
    "# sort the data and second last\n",
    "# sort the data in reverse order ,and select the data\n",
    "# Remove the max element and then get the max of the value\n",
    "li = [123,456,897,543]\n",
    "def secondLargest(li):\n",
    "    li.sort()\n",
    "    return li[-2]\n",
    "secondLargest(li)\n",
    "#Function that returns nth largest\n",
    "def genericLargest(li,n):\n",
    "    li.sort()\n",
    "    return li[-n-1]\n",
    "genericLargest(li,2)\n"
   ]
  },
  {
   "cell_type": "code",
   "execution_count": 109,
   "metadata": {},
   "outputs": [
    {
     "ename": "NameError",
     "evalue": "name 'index' is not defined",
     "output_type": "error",
     "traceback": [
      "\u001b[1;31m---------------------------------------------------------------------------\u001b[0m",
      "\u001b[1;31mNameError\u001b[0m                                 Traceback (most recent call last)",
      "\u001b[1;32m<ipython-input-109-c98aad85c5c7>\u001b[0m in \u001b[0;36m<module>\u001b[1;34m\u001b[0m\n\u001b[0;32m      7\u001b[0m             \u001b[1;32mreturn\u001b[0m \u001b[0mindex\u001b[0m\u001b[1;33m+\u001b[0m\u001b[1;36m1\u001b[0m\u001b[1;33m\u001b[0m\u001b[1;33m\u001b[0m\u001b[0m\n\u001b[0;32m      8\u001b[0m     \u001b[1;32mreturn\u001b[0m \u001b[1;33m-\u001b[0m\u001b[1;36m1\u001b[0m\u001b[1;33m\u001b[0m\u001b[1;33m\u001b[0m\u001b[0m\n\u001b[1;32m----> 9\u001b[1;33m \u001b[0mlinearSearch\u001b[0m\u001b[1;33m(\u001b[0m\u001b[0mli\u001b[0m\u001b[1;33m,\u001b[0m\u001b[1;36m456\u001b[0m\u001b[1;33m)\u001b[0m\u001b[1;33m\u001b[0m\u001b[1;33m\u001b[0m\u001b[0m\n\u001b[0m\u001b[0;32m     10\u001b[0m \u001b[1;32mdef\u001b[0m \u001b[0mlinearSearch2\u001b[0m\u001b[1;33m(\u001b[0m\u001b[0mli\u001b[0m\u001b[1;33m,\u001b[0m\u001b[0mkey\u001b[0m\u001b[1;33m)\u001b[0m\u001b[1;33m:\u001b[0m\u001b[1;33m\u001b[0m\u001b[1;33m\u001b[0m\u001b[0m\n\u001b[0;32m     11\u001b[0m     \u001b[1;32mfor\u001b[0m \u001b[0melement\u001b[0m \u001b[1;32min\u001b[0m \u001b[0mli\u001b[0m\u001b[1;33m:\u001b[0m\u001b[1;33m\u001b[0m\u001b[1;33m\u001b[0m\u001b[0m\n",
      "\u001b[1;32m<ipython-input-109-c98aad85c5c7>\u001b[0m in \u001b[0;36mlinearSearch\u001b[1;34m(li, key)\u001b[0m\n\u001b[0;32m      4\u001b[0m \u001b[1;32mdef\u001b[0m \u001b[0mlinearSearch\u001b[0m\u001b[1;33m(\u001b[0m\u001b[0mli\u001b[0m\u001b[1;33m,\u001b[0m\u001b[0mkey\u001b[0m\u001b[1;33m)\u001b[0m\u001b[1;33m:\u001b[0m\u001b[1;33m\u001b[0m\u001b[1;33m\u001b[0m\u001b[0m\n\u001b[0;32m      5\u001b[0m     \u001b[1;32mfor\u001b[0m \u001b[0mi\u001b[0m \u001b[1;32min\u001b[0m \u001b[0mrange\u001b[0m\u001b[1;33m(\u001b[0m\u001b[1;36m0\u001b[0m\u001b[1;33m,\u001b[0m\u001b[0mlen\u001b[0m\u001b[1;33m(\u001b[0m\u001b[0mli\u001b[0m\u001b[1;33m)\u001b[0m\u001b[1;33m)\u001b[0m\u001b[1;33m:\u001b[0m\u001b[1;33m\u001b[0m\u001b[1;33m\u001b[0m\u001b[0m\n\u001b[1;32m----> 6\u001b[1;33m         \u001b[1;32mif\u001b[0m \u001b[0mli\u001b[0m\u001b[1;33m[\u001b[0m\u001b[0mindex\u001b[0m\u001b[1;33m]\u001b[0m \u001b[1;33m==\u001b[0m \u001b[0mkey\u001b[0m\u001b[1;33m:\u001b[0m\u001b[1;33m\u001b[0m\u001b[1;33m\u001b[0m\u001b[0m\n\u001b[0m\u001b[0;32m      7\u001b[0m             \u001b[1;32mreturn\u001b[0m \u001b[0mindex\u001b[0m\u001b[1;33m+\u001b[0m\u001b[1;36m1\u001b[0m\u001b[1;33m\u001b[0m\u001b[1;33m\u001b[0m\u001b[0m\n\u001b[0;32m      8\u001b[0m     \u001b[1;32mreturn\u001b[0m \u001b[1;33m-\u001b[0m\u001b[1;36m1\u001b[0m\u001b[1;33m\u001b[0m\u001b[1;33m\u001b[0m\u001b[0m\n",
      "\u001b[1;31mNameError\u001b[0m: name 'index' is not defined"
     ]
    }
   ],
   "source": [
    "# function to search for data in a list\n",
    "# search for the key in the list and return the index\n",
    "li = [123,456,678,987]\n",
    "def linearSearch(li,key):\n",
    "    for i in range(0,len(li)): \n",
    "        if li[index] == key:\n",
    "            return index\n",
    "    return -1\n",
    "linearSearch(li,456)\n",
    "\n",
    "\n",
    "\n",
    "def linearSearch2(li,key):\n",
    "    for element in li:\n",
    "        if element == key:\n",
    "            return li.index(element)\n",
    "        return -1\n",
    "    \n",
    "    \n",
    "    \n",
    "def linearsearch3(li,key):\n",
    "    if key in li:\n",
    "        return li.index(key)\n",
    "    return -1\n",
    "linearSearch3(li,678)\n",
    "\n",
    "    "
   ]
  },
  {
   "cell_type": "code",
   "execution_count": null,
   "metadata": {},
   "outputs": [],
   "source": []
  },
  {
   "cell_type": "code",
   "execution_count": 121,
   "metadata": {},
   "outputs": [
    {
     "ename": "NameError",
     "evalue": "name 'numberOfsubstirngOccurances3' is not defined",
     "output_type": "error",
     "traceback": [
      "\u001b[1;31m---------------------------------------------------------------------------\u001b[0m",
      "\u001b[1;31mNameError\u001b[0m                                 Traceback (most recent call last)",
      "\u001b[1;32m<ipython-input-121-93ce0f047b64>\u001b[0m in \u001b[0;36m<module>\u001b[1;34m\u001b[0m\n\u001b[0;32m     15\u001b[0m \u001b[1;32mdef\u001b[0m \u001b[0mnumberOfsubstringOccurances3\u001b[0m\u001b[1;33m(\u001b[0m\u001b[0ms\u001b[0m\u001b[1;33m,\u001b[0m\u001b[0msubs\u001b[0m\u001b[1;33m)\u001b[0m\u001b[1;33m:\u001b[0m\u001b[1;33m\u001b[0m\u001b[1;33m\u001b[0m\u001b[0m\n\u001b[0;32m     16\u001b[0m     \u001b[1;32mreturn\u001b[0m \u001b[0ms\u001b[0m\u001b[1;33m.\u001b[0m\u001b[0msubs\u001b[0m\u001b[1;33m(\u001b[0m\u001b[1;34m''\u001b[0m\u001b[1;33m)\u001b[0m\u001b[1;33m\u001b[0m\u001b[1;33m\u001b[0m\u001b[0m\n\u001b[1;32m---> 17\u001b[1;33m \u001b[0mnumberOfsubstirngOccurances3\u001b[0m\u001b[1;33m(\u001b[0m\u001b[1;34m\"abcabcddcba\"\u001b[0m\u001b[1;33m,\u001b[0m\u001b[1;34m'aa'\u001b[0m\u001b[1;33m)\u001b[0m\u001b[1;33m\u001b[0m\u001b[1;33m\u001b[0m\u001b[0m\n\u001b[0m\u001b[0;32m     18\u001b[0m \u001b[1;33m\u001b[0m\u001b[0m\n\u001b[0;32m     19\u001b[0m \u001b[1;33m\u001b[0m\u001b[0m\n",
      "\u001b[1;31mNameError\u001b[0m: name 'numberOfsubstirngOccurances3' is not defined"
     ]
    }
   ],
   "source": [
    "#function to count the occurance of a charater in a string\n",
    "# \"python programming\" ,m -> 2\n",
    "def countCharOccurances(s,c):\n",
    "    count = 0\n",
    "    for ch in s:\n",
    "        if ch == c:\n",
    "            count += 1\n",
    "    return count\n",
    "\n",
    "def countCharOccurances2(s,c):\n",
    "    return s.count(c)\n",
    "countCharOccurances2(\"python programming\" ,'p')\n",
    "# Function to find the number of occurances of a substring in a string\n",
    "#\"abcabcddcba\",\"ab\"-> 2\n",
    "def numberOfsubstringOccurances3(s,subs):\n",
    "    return s.subs('')\n",
    "numberOfsubstirngOccurances3(\"abcabcddcba\",'aa')\n",
    "    \n",
    "        "
   ]
  },
  {
   "cell_type": "code",
   "execution_count": 5,
   "metadata": {},
   "outputs": [
    {
     "data": {
      "text/plain": [
       "[1, 2, 3, 4, 5, 6]"
      ]
     },
     "execution_count": 5,
     "metadata": {},
     "output_type": "execute_result"
    }
   ],
   "source": [
    "s = \"1 2 3 4 5 6\"\n",
    "li = s.split()\n",
    "numberlist = []\n",
    "for i in li:\n",
    "    numberlist.append(int(i))\n",
    "numberlist"
   ]
  },
  {
   "cell_type": "code",
   "execution_count": null,
   "metadata": {},
   "outputs": [],
   "source": [
    "#wirte a sum of squre of the numbers\n",
    "n = int(input())\n",
    "sum = 0\n",
    "for i in range(1,n+1):\n",
    "    if(i <= n):\n",
    "        i = i**2\n",
    "    sum = sum + i\n",
    "print(sum)"
   ]
  },
  {
   "cell_type": "markdown",
   "metadata": {},
   "source": [
    "# closest to zero\n",
    "** Explanation**\n",
    "- li = [3,2,-1,-2,-3](original list)-> -1\n",
    "- sorting the data\n",
    "- li = [-3,-2,-1,2,3](sorted list)\n",
    "- pl = [1,2,2,3,3](positive sorted list)\n",
    "- pl[0] -> Check if this numbe is positive or negative in the list\n",
    "- if pl[0] in li:\n",
    "    - return pl[0]\n",
    "- else\n",
    "    - retrun -pl[0]"
   ]
  },
  {
   "cell_type": "code",
   "execution_count": null,
   "metadata": {},
   "outputs": [],
   "source": [
    "n = int(input())\n",
    "s = input()\n",
    "s = s.split()\n",
    "li = []\n",
    "for i in s:\n",
    "    li.appeng(int(i))"
   ]
  },
  {
   "cell_type": "code",
   "execution_count": 8,
   "metadata": {},
   "outputs": [
    {
     "name": "stdout",
     "output_type": "stream",
     "text": [
      "-100\n"
     ]
    }
   ],
   "source": [
    "li = [-1,-2,2,3,1,-100]\n",
    "li.sort()\n",
    "pl = []\n",
    "for i in li:\n",
    "    pl.append(abs(i))\n",
    "pl.sort()\n",
    "if pl[-1] in li:\n",
    "    print(pl[-1])\n",
    "else:\n",
    "    print(-pl[-1])"
   ]
  },
  {
   "cell_type": "code",
   "execution_count": 15,
   "metadata": {},
   "outputs": [
    {
     "data": {
      "text/plain": [
       "98"
      ]
     },
     "execution_count": 15,
     "metadata": {},
     "output_type": "execute_result"
    }
   ],
   "source": [
    "### problem - 3\n",
    "#You are given three numbers ,a,b,c.Write a program to find the largest number which is less than or equal to c \n",
    "#and leaves remainder b when divided by a.\n",
    "def largestNumber(a,b,c):\n",
    "    for i in range(c,a-1,-1): #c,c-1,.....a\n",
    "        if  i % a == b:\n",
    "            return i\n",
    "    return -1\n",
    "largestNumber(3,2,100)      "
   ]
  },
  {
   "cell_type": "code",
   "execution_count": null,
   "metadata": {},
   "outputs": [],
   "source": []
  },
  {
   "cell_type": "code",
   "execution_count": null,
   "metadata": {},
   "outputs": [],
   "source": []
  },
  {
   "cell_type": "code",
   "execution_count": null,
   "metadata": {},
   "outputs": [],
   "source": []
  }
 ],
 "metadata": {
  "kernelspec": {
   "display_name": "Python 3",
   "language": "python",
   "name": "python3"
  },
  "language_info": {
   "codemirror_mode": {
    "name": "ipython",
    "version": 3
   },
   "file_extension": ".py",
   "mimetype": "text/x-python",
   "name": "python",
   "nbconvert_exporter": "python",
   "pygments_lexer": "ipython3",
   "version": "3.7.3"
  }
 },
 "nbformat": 4,
 "nbformat_minor": 2
}
