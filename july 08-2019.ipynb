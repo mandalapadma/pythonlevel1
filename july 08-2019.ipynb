{
 "cells": [
  {
   "cell_type": "markdown",
   "metadata": {},
   "source": [
    "### Files in python\n",
    "- To store the digital informaion\n",
    "- To work the "
   ]
  },
  {
   "cell_type": "markdown",
   "metadata": {},
   "source": [
    "### read()"
   ]
  },
  {
   "cell_type": "code",
   "execution_count": 2,
   "metadata": {},
   "outputs": [
    {
     "name": "stdout",
     "output_type": "stream",
     "text": [
      "Line 1\n",
      "Line 2\n",
      "Line 3\n",
      "Line 5\n",
      "Line 4\n"
     ]
    }
   ],
   "source": [
    "fh=open(\"book.txt\",\"r\")\n",
    "# passing two arguments->1.which file we want to open 2.which purpose u open that file 3. open fuction return object control\n",
    "data = fh.read()\n",
    "fh.close()\n",
    "print(data)"
   ]
  },
  {
   "cell_type": "markdown",
   "metadata": {},
   "source": [
    "#### Write(string_data)\n"
   ]
  },
  {
   "cell_type": "code",
   "execution_count": 3,
   "metadata": {},
   "outputs": [],
   "source": [
    "fh = open(\"book2.txt\",\"w\")\n",
    "data = \"hi hello\"\n",
    "fh.write(data)\n",
    "fh.close()"
   ]
  },
  {
   "cell_type": "code",
   "execution_count": 4,
   "metadata": {},
   "outputs": [],
   "source": [
    "fh = open(\"book2.txt\",\"w\")\n",
    "data = \"who r u\"\n",
    "fh.write(data)\n",
    "fh.close() "
   ]
  },
  {
   "cell_type": "markdown",
   "metadata": {},
   "source": [
    "#### append()"
   ]
  },
  {
   "cell_type": "code",
   "execution_count": 5,
   "metadata": {},
   "outputs": [],
   "source": [
    "fh = open(\"book2.txt\",\"a\")\n",
    "data = \"hiiii everyone\"\n",
    "fh.write(data)\n",
    "fh.close()"
   ]
  },
  {
   "cell_type": "code",
   "execution_count": 6,
   "metadata": {},
   "outputs": [],
   "source": [
    "fh = open(\"book3.txt\",\"a\")\n",
    "data = \"hello everyone\"\n",
    "fh.write(data)\n",
    "fh.close()"
   ]
  },
  {
   "cell_type": "code",
   "execution_count": null,
   "metadata": {},
   "outputs": [],
   "source": []
  },
  {
   "cell_type": "code",
   "execution_count": 15,
   "metadata": {},
   "outputs": [
    {
     "name": "stdout",
     "output_type": "stream",
     "text": [
      "1 Line A\n",
      "\n",
      "2 Line B\n",
      "\n",
      "3 Line C\n",
      "\n",
      "4 Line D\n",
      "\n",
      "5 Line E\n"
     ]
    }
   ],
   "source": [
    "fh = open(\"book.txt\",\"r\")\n",
    "#i = 1\n",
    "count=0\n",
    "for each in fh:\n",
    "       \n",
    "        #i+=1\n",
    "        count+=1\n",
    "        print(count,each)\n",
    "\n",
    "fh.close()"
   ]
  },
  {
   "cell_type": "code",
   "execution_count": 19,
   "metadata": {},
   "outputs": [
    {
     "name": "stdout",
     "output_type": "stream",
     "text": [
      "3 Line C\n",
      "\n"
     ]
    }
   ],
   "source": [
    "fh = open(\"book.txt\",\"r\")\n",
    "count=0\n",
    "for each in fh:\n",
    "    count+=1\n",
    "    if count==3:\n",
    "        print(count,each)\n",
    "fh.close()"
   ]
  },
  {
   "cell_type": "code",
   "execution_count": 35,
   "metadata": {},
   "outputs": [],
   "source": [
    "fh = open(\"book.txt\",\"r\")\n",
    "f = open(\"output.txt\",\"w\")\n",
    "for each in fh:\n",
    "    f.write(each)\n",
    "f.close()\n",
    "fh.close()\n",
    "    "
   ]
  },
  {
   "cell_type": "code",
   "execution_count": null,
   "metadata": {},
   "outputs": [],
   "source": [
    "fh = open(\"book.txt\",\"r\")\n",
    "data = fh.read()\n",
    "fh.close()\n",
    "\n",
    "\n",
    "fh = open(\"output.txt\",\"w\")\n",
    "fh.write(data)\n",
    "fh.close()"
   ]
  },
  {
   "cell_type": "code",
   "execution_count": 71,
   "metadata": {},
   "outputs": [],
   "source": [
    "fh = open(\"book.txt\",\"r\")\n",
    "f = open(\"output.txt\",\"w\")\n",
    "for line in fh:\n",
    "    word=line.split()[0]+'\\n'\n",
    "    f.write(word)\n",
    "    \n",
    "    \n",
    "f.close()\n",
    "fh.close()\n",
    "    "
   ]
  },
  {
   "cell_type": "code",
   "execution_count": 112,
   "metadata": {},
   "outputs": [],
   "source": [
    "fh_i = open(\"book.txt\",\"r\")\n",
    "fh_o = open(\"output.txt\",\"w\")\n",
    "total_marks=0\n",
    "for line in fh_i:\n",
    "    total_marks+=1\n",
    "    if total_marks==1:\n",
    "        continue\n",
    "    name=line.split()[0]\n",
    "    marks=sum(list(map(int,line.split()[1:])))#['100','200','300']\n",
    "    #print(marks)\n",
    "    fh_o.write(name+' '+str(marks)+'\\n')\n",
    "fh_i.close()\n",
    "fh_o.close()"
   ]
  },
  {
   "cell_type": "code",
   "execution_count": 110,
   "metadata": {},
   "outputs": [
    {
     "name": "stdout",
     "output_type": "stream",
     "text": [
      "name eng phy maths\n",
      "\n",
      "padma 80 70  60\n",
      "\n",
      "indu  70 60  70\n",
      "\n",
      "ganga 60 60 60\n"
     ]
    }
   ],
   "source": []
  },
  {
   "cell_type": "code",
   "execution_count": null,
   "metadata": {},
   "outputs": [],
   "source": []
  },
  {
   "cell_type": "code",
   "execution_count": null,
   "metadata": {},
   "outputs": [],
   "source": []
  }
 ],
 "metadata": {
  "kernelspec": {
   "display_name": "Python 3",
   "language": "python",
   "name": "python3"
  },
  "language_info": {
   "codemirror_mode": {
    "name": "ipython",
    "version": 3
   },
   "file_extension": ".py",
   "mimetype": "text/x-python",
   "name": "python",
   "nbconvert_exporter": "python",
   "pygments_lexer": "ipython3",
   "version": "3.7.3"
  }
 },
 "nbformat": 4,
 "nbformat_minor": 2
}
