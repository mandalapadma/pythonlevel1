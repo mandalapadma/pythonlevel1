{
 "cells": [
  {
   "cell_type": "markdown",
   "metadata": {},
   "source": [
    "## Date : 24th june - 2019\n",
    "## Day Objectives:\n",
    "\n",
    "#### contacts Application\n",
    "    - Add , Search , List , Modify delete contacts\n",
    "#### Find and replace Application\n",
    "    - Count the total number of occurances(frequency) of a word\n",
    "    - If word is existing \n",
    "    - Replace all occurances of a word with another word\n",
    "    \n",
    "#### Marks Analysis Application\n",
    "    - Generate the marks file for n students \n",
    "    - Input : Marks text file - each line contains marks of one student\n",
    "    - Genetates  a report with the following information\n",
    "        - Class Average\n",
    "        - % of students passed\n",
    "        - % of failed students\n",
    "        - % of students with distinction\n",
    "        - Highest Mark Frequency\n",
    "        - Lowest Mark Frequency"
   ]
  },
  {
   "cell_type": "code",
   "execution_count": 3,
   "metadata": {},
   "outputs": [],
   "source": [
    "# Function to generate marks data for n students\n",
    "from random import randint\n",
    "def generateMarks(n,lb,ub):\n",
    "    with open('DataFiles/marks.txt','w') as f:\n",
    "        for i in range(0,n):\n",
    "            r = randint(lb,ub)\n",
    "            f.write(str(r)+'\\n')\n",
    "    return\n",
    "generateMarks(5,0,100)\n",
    "    \n",
    "    "
   ]
  },
  {
   "cell_type": "code",
   "execution_count": null,
   "metadata": {},
   "outputs": [],
   "source": [
    "# marks text file - each line contains marks of one student\n",
    "from random import randint\n",
    "def gerenateMarksTextFile(n,lb,ub):\n",
    "    with open('DataFiles/marks.txt',w) as f:\n",
    "        "
   ]
  },
  {
   "cell_type": "code",
   "execution_count": null,
   "metadata": {},
   "outputs": [],
   "source": [
    "# class Average\n",
    "from random import randint\n",
    "def generateMarks(n,lb,ub):\n",
    "    with open('DataFile/marks.txt','w') as f:\n",
    "        for i in range(0,n):\n",
    "            "
   ]
  }
 ],
 "metadata": {
  "kernelspec": {
   "display_name": "Python 3",
   "language": "python",
   "name": "python3"
  },
  "language_info": {
   "codemirror_mode": {
    "name": "ipython",
    "version": 3
   },
   "file_extension": ".py",
   "mimetype": "text/x-python",
   "name": "python",
   "nbconvert_exporter": "python",
   "pygments_lexer": "ipython3",
   "version": "3.7.3"
  }
 },
 "nbformat": 4,
 "nbformat_minor": 2
}
