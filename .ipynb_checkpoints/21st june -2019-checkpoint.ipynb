{
 "cells": [
  {
   "cell_type": "markdown",
   "metadata": {},
   "source": [
    "### 21st june - 2019\n",
    "### day objectivies:\n",
    "- Function to check if contacts already exists using file handling\n",
    "- function add to contacts text file\n",
    "- csv to list and list to  file\n",
    "- Ali and helping innocent people (Hacker hearth problem)"
   ]
  },
  {
   "cell_type": "code",
   "execution_count": null,
   "metadata": {},
   "outputs": [],
   "source": [
    "#function add to contacts text file\n",
    "from Packages.validators import phoneNumberValidator as pnv\n",
    "from Packages.validators import emailValidatror as ev\n",
    "\n",
    "def addContact(name,phone,email):\n",
    "    #store data as name,phone,email in the contacts file\n",
    "    filename = 'DataFiles/contacts.txt'\n",
    "    if not checkContactExists(name):\n",
    "        if pnv(phone) and ev(email):\n",
    "            with open(filename,'a') as f:\n",
    "                line = name + ',' + str(phone) +',' + email + '\\n'\n",
    "                f.write(line)\n",
    "            print(name,'added to contacts')\n",
    "        else:\n",
    "            print(name,'Invalid Phone number or Email')\n",
    "    else:\n",
    "        print(name,'already exist')\n",
    "    return\n",
    "#addContact(\"name1\",9884774765,\"padma@gmail.com\")\n",
    "\n",
    "\n",
    "\n",
    "import re\n",
    "\n",
    "# Function to check if contact already exists\n",
    "def checkContactExists(name):\n",
    "    filename = 'DataFiles/contacts.txt'\n",
    "    with open(filename,'r') as f:\n",
    "        filedata = f.read()\n",
    "        pattern = name+','\n",
    "    return re.search(name,filedata)\n",
    "if checkContactExists(\"name1,\"):\n",
    "    print(True)\n",
    "else:\n",
    "    print(False)\n",
    "addContact(\"name2\",9867895432,\"ganga@gmail.com\")\n",
    "    \n",
    "        "
   ]
  },
  {
   "cell_type": "code",
   "execution_count": 26,
   "metadata": {},
   "outputs": [
    {
     "data": {
      "text/plain": [
       "' \"name1\",phone1,\"email1\"\\nname1,9884774765,padma@gmail.com\\n'"
      ]
     },
     "execution_count": 26,
     "metadata": {},
     "output_type": "execute_result"
    }
   ],
   "source": [
    "filename='DataFiles/contacts.txt'\n",
    "def csvToList(filename):\n",
    "    li = []\n",
    "    with open(filename,'r') as f:\n",
    "        for line in f:\n",
    "            li.append(line.split(','))\n",
    "    return li\n",
    "#[[],[],[]]\n",
    "def listToFile(li):\n",
    "    s = ' '\n",
    "    for i in li:\n",
    "      s += ','.join(i)\n",
    "    return s\n",
    "            \n",
    "li = csvToList(filename)\n",
    "listToFile(li)"
   ]
  },
  {
   "cell_type": "code",
   "execution_count": null,
   "metadata": {},
   "outputs": [],
   "source": [
    "#Ali and Helping innocent people\n",
    "def Helpinginnocent() "
   ]
  },
  {
   "cell_type": "code",
   "execution_count": null,
   "metadata": {},
   "outputs": [],
   "source": []
  }
 ],
 "metadata": {
  "kernelspec": {
   "display_name": "Python 3",
   "language": "python",
   "name": "python3"
  },
  "language_info": {
   "codemirror_mode": {
    "name": "ipython",
    "version": 3
   },
   "file_extension": ".py",
   "mimetype": "text/x-python",
   "name": "python",
   "nbconvert_exporter": "python",
   "pygments_lexer": "ipython3",
   "version": "3.7.3"
  }
 },
 "nbformat": 4,
 "nbformat_minor": 2
}
