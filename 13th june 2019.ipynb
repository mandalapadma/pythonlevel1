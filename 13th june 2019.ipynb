{
 "cells": [
  {
   "cell_type": "markdown",
   "metadata": {},
   "source": [
    "### date 13th june - 2019\n",
    "### Advancd problems\n",
    "- function to calculate average  of all factorials in a given range\n",
    "- function to generate N odd armstrong number in a given range\n",
    "- function to generate multiplication table for a number in a given range"
   ]
  },
  {
   "cell_type": "code",
   "execution_count": 2,
   "metadata": {},
   "outputs": [
    {
     "ename": "IndentationError",
     "evalue": "unexpected indent (<ipython-input-2-13ad07614ec4>, line 2)",
     "output_type": "error",
     "traceback": [
      "\u001b[1;36m  File \u001b[1;32m\"<ipython-input-2-13ad07614ec4>\"\u001b[1;36m, line \u001b[1;32m2\u001b[0m\n\u001b[1;33m    -10 in the range(100,103) inclusive\u001b[0m\n\u001b[1;37m    ^\u001b[0m\n\u001b[1;31mIndentationError\u001b[0m\u001b[1;31m:\u001b[0m unexpected indent\n"
     ]
    }
   ],
   "source": [
    "#function to generate multiplication table for a number in a given range\n",
    " -10 in the range(100,103) inclusive\n",
    "    10 x 100 =1000\n",
    "    10 x 101 =1010\n",
    "    10 x 102 = 1020\n",
    "def multiplication(lb,ub):\n",
    "    n = 10\n",
    "    for i in range(lb,ub+1):\n",
    "        print(n,\"*\",i,\"=\",n*i)\n",
    "    return\n",
    "multiplication(100,110)"
   ]
  },
  {
   "cell_type": "code",
   "execution_count": null,
   "metadata": {},
   "outputs": [],
   "source": [
    "# function to generate N odd armstrong number in a given range\n",
    "def armstroNgnumber(n):\n",
    "        sum = 0\n",
    "        l = len(n)\n",
    "        for ch in n:\n",
    "            sum += pow(int(ch),l)\n",
    "        if str(sum) == n:\n",
    "            return True\n",
    "        else:\n",
    "            return False\n",
    "       \n",
    "\n",
    "num=input(\"Enter a number:\")\n",
    "armstroNgnumber(num)"
   ]
  },
  {
   "cell_type": "code",
   "execution_count": null,
   "metadata": {},
   "outputs": [],
   "source": [
    "#function to calculate average  of all factorials in a given range\n",
    "def averageFactorial(n):\n",
    "    fact = 1\n",
    "    count = 0\n",
    "    for i in range(1,n+1):\n",
    "        fact *= i\n",
    "        count = count+1\n",
    "    return fact/count\n",
    "averageFactorial(6)"
   ]
  }
 ],
 "metadata": {
  "kernelspec": {
   "display_name": "Python 3",
   "language": "python",
   "name": "python3"
  },
  "language_info": {
   "codemirror_mode": {
    "name": "ipython",
    "version": 3
   },
   "file_extension": ".py",
   "mimetype": "text/x-python",
   "name": "python",
   "nbconvert_exporter": "python",
   "pygments_lexer": "ipython3",
   "version": "3.7.3"
  }
 },
 "nbformat": 4,
 "nbformat_minor": 2
}
