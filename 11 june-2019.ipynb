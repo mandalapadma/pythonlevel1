{
 "cells": [
  {
   "cell_type": "markdown",
   "metadata": {},
   "source": [
    "#### Markdown Basics\n",
    "\n",
    "* **Bold**\n",
    "* *Itallic*\n",
    "* ***IB***\n",
    "* Normal Text\n",
    "  * sublist 1\n",
    "  * sublist 2\n",
    "  \n",
    "  \n",
    "1. Ordered list element 1\n",
    "2. Ordered list element 2\n",
    "\n",
    "- [ ] Option 1\n",
    "- [ ] Option 2\n",
    "- [x ] Option 3\n",
    "\n",
    "\n",
    ".[Jupyter logo](Jupyterlogo.png)\n",
    "\n",
    "<img src=\"Jupyterlogo.png\" style=\"float=right\" >\n"
   ]
  },
  {
   "cell_type": "code",
   "execution_count": null,
   "metadata": {},
   "outputs": [],
   "source": []
  },
  {
   "cell_type": "code",
   "execution_count": 1,
   "metadata": {},
   "outputs": [
    {
     "ename": "SyntaxError",
     "evalue": "invalid syntax (<ipython-input-1-2a897d55ec9d>, line 1)",
     "output_type": "error",
     "traceback": [
      "\u001b[1;36m  File \u001b[1;32m\"<ipython-input-1-2a897d55ec9d>\"\u001b[1;36m, line \u001b[1;32m1\u001b[0m\n\u001b[1;33m    I get 10 times more traffic from [Google] [1] than from\u001b[0m\n\u001b[1;37m        ^\u001b[0m\n\u001b[1;31mSyntaxError\u001b[0m\u001b[1;31m:\u001b[0m invalid syntax\n"
     ]
    }
   ],
   "source": [
    "I get 10 times more traffic from [Google] [1] than from\n",
    "[Yahoo] [2] or [MSN] [3].\n",
    "\n",
    "  [1]: http://google.com/        \"Google\"\n",
    "  [2]: http://search.yahoo.com/  \"Yahoo Search\"\n",
    "  [3]: http://search.msn.com/    \"MSN Search\""
   ]
  },
  {
   "cell_type": "markdown",
   "metadata": {},
   "source": []
  },
  {
   "cell_type": "markdown",
   "metadata": {},
   "source": [
    "### python Basics"
   ]
  },
  {
   "cell_type": "markdown",
   "metadata": {},
   "source": [
    "#### python version 3.7\n",
    "-scripting language\n",
    "-object oriented\n",
    "-functional\n"
   ]
  },
  {
   "cell_type": "code",
   "execution_count": 1,
   "metadata": {},
   "outputs": [
    {
     "ename": "SyntaxError",
     "evalue": "invalid syntax (<ipython-input-1-2827c94d7ef9>, line 2)",
     "output_type": "error",
     "traceback": [
      "\u001b[1;36m  File \u001b[1;32m\"<ipython-input-1-2827c94d7ef9>\"\u001b[1;36m, line \u001b[1;32m2\u001b[0m\n\u001b[1;33m    print(\"Good afternoon\",\"!\",\"end=\"||\")\u001b[0m\n\u001b[1;37m                                      ^\u001b[0m\n\u001b[1;31mSyntaxError\u001b[0m\u001b[1;31m:\u001b[0m invalid syntax\n"
     ]
    }
   ],
   "source": [
    "#python comments\n",
    "print(\"Good afternoon\",\"!\",\"end=\"||\")"
   ]
  },
  {
   "cell_type": "code",
   "execution_count": 5,
   "metadata": {},
   "outputs": [
    {
     "name": "stdout",
     "output_type": "stream",
     "text": [
      "Hello world\n"
     ]
    }
   ],
   "source": [
    "print (\"Hello world\")"
   ]
  },
  {
   "cell_type": "code",
   "execution_count": 8,
   "metadata": {},
   "outputs": [
    {
     "name": "stdout",
     "output_type": "stream",
     "text": [
      "123\n"
     ]
    },
    {
     "data": {
      "text/plain": [
       "(123, 345, 456)"
      ]
     },
     "execution_count": 8,
     "metadata": {},
     "output_type": "execute_result"
    }
   ],
   "source": [
    " a =123\n",
    "print(a)\n",
    "\n",
    "n1 = n2 = n3 = 123 , 345 ,456\n"
   ]
  },
  {
   "cell_type": "markdown",
   "metadata": {},
   "source": [
    "### Assignment"
   ]
  },
  {
   "cell_type": "code",
   "execution_count": null,
   "metadata": {},
   "outputs": [],
   "source": [
    "n1 = 123456 #"
   ]
  },
  {
   "cell_type": "markdown",
   "metadata": {},
   "source": [
    "## Fundamental Data Types and conversations\n",
    "\n",
    "- int\n",
    "- float\n",
    "- string\n",
    "- double\n",
    "\n"
   ]
  },
  {
   "cell_type": "code",
   "execution_count": 24,
   "metadata": {},
   "outputs": [
    {
     "data": {
      "text/plain": [
       "12.0"
      ]
     },
     "execution_count": 24,
     "metadata": {},
     "output_type": "execute_result"
    }
   ],
   "source": [
    "a=3\n",
    "type(a)\n",
    "s1 =  \"python\"\n",
    "type(s1)\n",
    "\n",
    "f1 = 12.345\n",
    "type(f1)\n",
    "\n",
    "float(str(int(f1)))"
   ]
  },
  {
   "cell_type": "markdown",
   "metadata": {},
   "source": [
    "# assignment"
   ]
  },
  {
   "cell_type": "code",
   "execution_count": 18,
   "metadata": {},
   "outputs": [
    {
     "name": "stdout",
     "output_type": "stream",
     "text": [
      "123 347 345\n"
     ]
    }
   ],
   "source": [
    "n1 = 123456 # single variable assignment\n",
    "\n",
    "n2 = n3 = n4 = n1 # multi variable assignment of th same variable\n",
    "\n",
    "\n",
    "a, b, c = 123 , 347 , 345 # multli variable assignment with different values\n",
    "\n",
    "print (a,b,c)"
   ]
  },
  {
   "cell_type": "markdown",
   "metadata": {},
   "source": [
    "### Arithmetic Operations\n",
    "- +\n",
    "- -\n",
    "- %\n",
    " \n",
    "- **\n",
    "- /\n",
    "- *"
   ]
  },
  {
   "cell_type": "code",
   "execution_count": 20,
   "metadata": {},
   "outputs": [
    {
     "data": {
      "text/plain": [
       "8434450788981938084311889370450054290389656948634433903512087812703764083983304475006344142545252283542026992484244525036800902661489506643753403771279751659239979098036352060514514449772012173308423838374792675223008349807192590855005110184563682700434292976231623005340990101600554243816227549856679381897094154032960800720453744313729144777405807229139937477168148679505912582724607595736103271248301101834440315740110368949803062579207951557001653237178053371648346710011928131039764456134617809272942515948008163981162997748098746957812705152952631159693808307428584592372354535296820888116913650767485316128284586817691488356041395726857356904213796964701509236589892615927158507365691458844351359616102351503376153019484039445379283557890985352034812414077056408182867859214985442968860172888612323954835733363990374236540286657647161846382936966445273218086274313520352323571271698649425016756134460448923741772904532051669201902923211643384819375585377731648035827265552639616564512306442013379219571925431340471664310108904066325699942782878428640953726603972403936408129393523721051838445138849961594707477959924037251238845604358059200221274429509177681565301320073693465049833113803375852601865953305195809669505937520858709595312161307501145248216215494816374856481837861338893779959685654756985007436187129915582569595763812868050658136304367518355762480880072186631682252427476552991568175007209721607025591471283370681922802469973307856315934126361605494303601566563040096519234923702775871453780620794109589401663169325541550388717872081653694412693790391399974911459368452549810584341043703642641436236487402383789178658110316259456070538670328313117684856888943551091218972076662494184479847063701467178827610745182223082274796088936710199923973085677340306921676361513478620173075510644782631070202352941571097127330338869403416373295165159379902249521019558304097825984852203721427092448642893957079039747179957832567338936609943209221717606830055415930618086914258248056906759161118353695743293371287404136998461341076813050872490474854202055773911504631800678515163034658607703727555931868624814411335426903590513250509711271996882216742063755289554325466596891579622292890116320531790624706540484336842943559156380293189293814440918627730069099580449434770589500475316189385935804562198248923045454741698132313869586182142898254054210807173658374251071786736560487255379681225581599336778133689469672124126247171166092872622741249194905328713566299853594014227380240881777260127200089213291995026993013075707255867710596349659424919098866008888506661848527720042260827459524391753038380169638249961569445579212429031675726060567826782451562329341461036740964408138308555831432551816627060046782515319822313448804624931899100114430462655553394239316993538977336566856884482955458731094797442079600650074126822150973084140161188596647889415438479069390921666980820863199892366631102447925437161971351958500028135937119792736111018938821427116172071767389538256830516263751530245874310175903011203936269981125217090915649207684039122339235422475457037422803756332505174473512604223312320937787536608059280962738409180247285875412356170060623648421236060107401522083451676964151176967754340991219308043863129736828183560612549550936383069077652185613952323517876559052772018036254282975064821819072870995203206297224952590190251564987807683586345712576662742939088142340648140933072182949130717358527505547821604379098722376026790553381569076102079642382842617124746247943063257074969390659042241457133590275501969294679318460942685647027869732467167478598631089485218145594677158658240556199049567700215061262423478328623497797926132169300792259565270189268224312461734143255721684503538378428570671790911621243717115446417108771795384325928832394664382189739420826943747938874577785093876247176823109885359402209715518212610565368711226417254330277241154375638582767104795543765957844906140307296297355724242642900697086808142011749082836948330858746086911858627838452381843768472611837025798529398264833218286300252077965885185376377613056295614609123680056268958789275981306869890110225202084743287114976617171337684453659553165800041217692732919915662742398302870971102660387559950349421080213797889046033150948566002205557636146083283929549378835681812406694746066392205441012318649139130978754101347207342437365929559714207510112505085547313520395632651063368430264671845904744680230084055545902087840476757659822756790453355754534622465856249362470926940847320059904377373006802153270832927312601928487733346914104939112559210529922553316679704504579293167988922936105323797216188007197985309658225979254081341350047554244845686360844184596015405034375387166382780367361958218044976444955974902200961677817674178395127768574110353527245834954142029833040666178032126280803215801945592448746829832631709350682105363178334703821407515639131104672554875987605348691802553023039373351513997109233391527153732892023788632845847681190251586482539568512397764764549006778178489877898205053339928913593338186063901161331477885119405076233208310410548940350345837741773557647097444546638404691116848266386942449363160999453485962185047477176328014465554246797994951642927383115028074140442457364495142537338575181456364542171248492231503854034042812704933347183311405848876200364171085258162096905904578902498091556424607508329955812791484503892987571324967193606841489001146872354167043888135359219213401779121526889417960595702458917296576296653946165176373523824008959139798296532250660518030824823218116621681353917062247619038127674901173371696957289722145614026606606575143292071309251354429239581946343465616418324379089312829982733188268861929527496474340572918504384824278354320185496352587732679508062400883488706349918551771083880479186656076359096660831182967742072394559760631707810867326233066154870959351702107571395261137992078326182149372748819061640745207274266631055975321916835430720261508938779580689233355256495933703709834365115906765018374891375894212451686876335288123712285588971930996843091730985071972981948861842983438091757173305161542978418658152383687094790015044508524996193706140344037095590172808793982513693756349248192162861105550150920156893890001603387632211628638739049443795288904407577372834449641277947835853422509162496"
      ]
     },
     "execution_count": 20,
     "metadata": {},
     "output_type": "execute_result"
    }
   ],
   "source": [
    "n1 % 11\n",
    "\n",
    "n3 = n2 ** 1234\n",
    "\n",
    "type(n3)\n",
    "len(str(n3))\n",
    "n3"
   ]
  },
  {
   "cell_type": "code",
   "execution_count": 21,
   "metadata": {},
   "outputs": [
    {
     "data": {
      "text/plain": [
       "10000000000000000000000000000000000000000000000000000000000000000000000000000000000"
      ]
     },
     "execution_count": 21,
     "metadata": {},
     "output_type": "execute_result"
    }
   ],
   "source": [
    "n1 % 11\n",
    "\n",
    "n3 = n2 * 1234\n",
    "\n",
    "type(n3)\n",
    "len(str(n3))\n",
    "\n",
    "\n",
    "\n",
    "atoms = 10 ** 82\n",
    "len(str(atoms))\n",
    "type(str(atoms))\n",
    "atoms\n"
   ]
  },
  {
   "cell_type": "markdown",
   "metadata": {},
   "source": [
    "## conditionals"
   ]
  },
  {
   "cell_type": "code",
   "execution_count": 10,
   "metadata": {},
   "outputs": [
    {
     "data": {
      "text/plain": [
       "True"
      ]
     },
     "execution_count": 10,
     "metadata": {},
     "output_type": "execute_result"
    }
   ],
   "source": [
    "atoms = 10**82\n",
    "atoms < 10 ** 99"
   ]
  },
  {
   "cell_type": "code",
   "execution_count": 11,
   "metadata": {},
   "outputs": [
    {
     "data": {
      "text/plain": [
       "False"
      ]
     },
     "execution_count": 11,
     "metadata": {},
     "output_type": "execute_result"
    }
   ],
   "source": [
    "atoms < 10 ** 72"
   ]
  },
  {
   "cell_type": "code",
   "execution_count": 12,
   "metadata": {},
   "outputs": [
    {
     "data": {
      "text/plain": [
       "83"
      ]
     },
     "execution_count": 12,
     "metadata": {},
     "output_type": "execute_result"
    }
   ],
   "source": [
    "len(str(atoms))"
   ]
  },
  {
   "cell_type": "code",
   "execution_count": 16,
   "metadata": {},
   "outputs": [
    {
     "name": "stdout",
     "output_type": "stream",
     "text": [
      "FALSE\n"
     ]
    }
   ],
   "source": [
    "if atoms < 10 ** 9:\n",
    "    print(\"TRUE\")\n",
    "else:\n",
    "    print(\"FALSE\")\n",
    "    "
   ]
  },
  {
   "cell_type": "code",
   "execution_count": 3,
   "metadata": {},
   "outputs": [
    {
     "name": "stdout",
     "output_type": "stream",
     "text": [
      "Enter the first number12\n",
      "Enter the second number13\n",
      "Enter the third number14\n",
      "14 is the greatest\n"
     ]
    }
   ],
   "source": [
    "###find the greatest of 3 numbers\n",
    "\n",
    "n1 = int(input(\"Enter the first number\"))\n",
    "n2 = int(input(\"Enter the second number\"))\n",
    "n3 = int(input(\"Enter the third number\"))\n",
    "\n",
    "if n1 > n2 and n1 > n3:\n",
    "    print(n1,\"is the greatest\")\n",
    "elif n2 > n3:\n",
    "    print(n2,\"is the greatest\")\n",
    "else:\n",
    "    print(n3,\"is the greatest\")"
   ]
  },
  {
   "cell_type": "code",
   "execution_count": null,
   "metadata": {},
   "outputs": [],
   "source": [
    "#find the number even or odd\n",
    "n = 123\n",
    "if n%2 == 0:\n",
    "    print(\"EVEN\")\n",
    "else: \n",
    "    print (\"ODD\")\n",
    "\n"
   ]
  },
  {
   "cell_type": "code",
   "execution_count": 12,
   "metadata": {},
   "outputs": [
    {
     "name": "stdout",
     "output_type": "stream",
     "text": [
      "Enter the year2020\n",
      "leapyear\n"
     ]
    }
   ],
   "source": [
    "# check the year is leap year or not\n",
    "n = int(input(\"Enter the year\"))\n",
    "if n%400 == 0 or n%4 == 0 and n%100!= 0 :\n",
    "    print(\"leapyear\")\n",
    "else:\n",
    "    print(\"not leapyear\")\n"
   ]
  },
  {
   "cell_type": "code",
   "execution_count": 2,
   "metadata": {},
   "outputs": [
    {
     "name": "stdout",
     "output_type": "stream",
     "text": [
      "the number exist in the given range\n"
     ]
    }
   ],
   "source": [
    "# check if a number exists in a given range\n",
    "\n",
    "n1 = 123\n",
    "lb = 50\n",
    "ub = 150\n",
    "\n",
    "if n1 >= lb and n1 <= ub:\n",
    "    print(\"the number exist in the given range\")\n",
    "else:\n",
    "    print(\"the number not exit in the given range\")\n",
    "\n"
   ]
  },
  {
   "cell_type": "code",
   "execution_count": 26,
   "metadata": {},
   "outputs": [
    {
     "name": "stdout",
     "output_type": "stream",
     "text": [
      "4\n"
     ]
    }
   ],
   "source": [
    "# calculate the number of digits in a number\n",
    "n1 = 1234\n",
    "print(len(str(n1)))\n"
   ]
  },
  {
   "cell_type": "code",
   "execution_count": 23,
   "metadata": {},
   "outputs": [
    {
     "name": "stdout",
     "output_type": "stream",
     "text": [
      "Enter the number134\n",
      "134 the number is not multiple of 10\n"
     ]
    }
   ],
   "source": [
    "# check if a number is a multiple of 10\n",
    "n = int(input(\"Enter the number\"))\n",
    "if n%10 == 0:\n",
    "    print(n, \"the number is multiple of 10\")\n",
    "else:\n",
    "    print(n,\"the number is not multiple of 10\")"
   ]
  },
  {
   "cell_type": "code",
   "execution_count": 25,
   "metadata": {},
   "outputs": [
    {
     "name": "stdout",
     "output_type": "stream",
     "text": [
      "Enter the number12300\n",
      "12300 the number is factor of 1000\n"
     ]
    }
   ],
   "source": [
    "# check if a number is a factor of 1000\n",
    "n = int(input(\"Enter the number\"))\n",
    "if n%10 == 0 :\n",
    "    print(n,\"the number is factor of 1000\")\n",
    "else:\n",
    "    print(n,\"the number is not factor of 1000\")"
   ]
  },
  {
   "cell_type": "code",
   "execution_count": 20,
   "metadata": {},
   "outputs": [
    {
     "name": "stdout",
     "output_type": "stream",
     "text": [
      "1234 is equal to 1234\n"
     ]
    }
   ],
   "source": [
    "# check if a given string is equal to a number\n",
    "s1 = \"1234\"\n",
    "n1 = 1234\n",
    "if (str(n1))== s1:\n",
    "    print(n1 , \"is equal to\" ,s1)"
   ]
  },
  {
   "cell_type": "code",
   "execution_count": 17,
   "metadata": {},
   "outputs": [
    {
     "data": {
      "text/plain": [
       "11.090536506409418"
      ]
     },
     "execution_count": 17,
     "metadata": {},
     "output_type": "execute_result"
    }
   ],
   "source": [
    "# calculate the square root of a number without functions\n",
    "n1 = 123\n",
    "n1 ** 0.5"
   ]
  },
  {
   "cell_type": "code",
   "execution_count": 18,
   "metadata": {},
   "outputs": [
    {
     "name": "stdout",
     "output_type": "stream",
     "text": [
      "Enter the year2009\n",
      "31536000000000000\n"
     ]
    }
   ],
   "source": [
    "# calculate the number of nano seconds in a \n",
    "#given year(considering leap year logic)\n",
    "n = int(input(\"Enter the year\"))\n",
    "if n%400 == 0 or n%4 == 0 and n%100!= 0 :\n",
    "    print(366*24*60*60*(10 ** 9))\n",
    "else:\n",
    "    print(365*24*60*60*(10 ** 9))"
   ]
  },
  {
   "cell_type": "code",
   "execution_count": 27,
   "metadata": {},
   "outputs": [
    {
     "name": "stdout",
     "output_type": "stream",
     "text": [
      "5\n"
     ]
    }
   ],
   "source": [
    "\n",
    "\n",
    "\n",
    " "
   ]
  },
  {
   "cell_type": "code",
   "execution_count": null,
   "metadata": {},
   "outputs": [],
   "source": []
  }
 ],
 "metadata": {
  "kernelspec": {
   "display_name": "Python 3",
   "language": "python",
   "name": "python3"
  },
  "language_info": {
   "codemirror_mode": {
    "name": "ipython",
    "version": 3
   },
   "file_extension": ".py",
   "mimetype": "text/x-python",
   "name": "python",
   "nbconvert_exporter": "python",
   "pygments_lexer": "ipython3",
   "version": "3.7.3"
  }
 },
 "nbformat": 4,
 "nbformat_minor": 2
}
