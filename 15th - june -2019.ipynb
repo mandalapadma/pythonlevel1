{
 "cells": [
  {
   "cell_type": "markdown",
   "metadata": {},
   "source": [
    "### Date 15th june - 2019:\n",
    "### Basic problems in Hackerherath :\n",
    "- count divisors\n",
    "- factorial\n",
    "- Toggle String\n",
    "- Palindrome\n",
    "- prime number\n",
    "- two strings\n",
    "- Duration\n",
    "- char sum\n",
    "- play with numbers"
   ]
  },
  {
   "cell_type": "code",
   "execution_count": 1,
   "metadata": {},
   "outputs": [
    {
     "name": "stdout",
     "output_type": "stream",
     "text": [
      "1,10,1\n"
     ]
    },
    {
     "ename": "ValueError",
     "evalue": "not enough values to unpack (expected 3, got 1)",
     "output_type": "error",
     "traceback": [
      "\u001b[1;31m---------------------------------------------------------------------------\u001b[0m",
      "\u001b[1;31mValueError\u001b[0m                                Traceback (most recent call last)",
      "\u001b[1;32m<ipython-input-1-f1105ecaa10e>\u001b[0m in \u001b[0;36m<module>\u001b[1;34m\u001b[0m\n\u001b[0;32m      6\u001b[0m             \u001b[0mcount\u001b[0m \u001b[1;33m=\u001b[0m \u001b[0mcount\u001b[0m \u001b[1;33m+\u001b[0m \u001b[1;36m1\u001b[0m\u001b[1;33m\u001b[0m\u001b[1;33m\u001b[0m\u001b[0m\n\u001b[0;32m      7\u001b[0m     \u001b[1;32mreturn\u001b[0m \u001b[0mcount\u001b[0m\u001b[1;33m\u001b[0m\u001b[1;33m\u001b[0m\u001b[0m\n\u001b[1;32m----> 8\u001b[1;33m \u001b[0ma\u001b[0m\u001b[1;33m,\u001b[0m\u001b[0mb\u001b[0m\u001b[1;33m,\u001b[0m\u001b[0mc\u001b[0m \u001b[1;33m=\u001b[0m \u001b[0minput\u001b[0m\u001b[1;33m(\u001b[0m\u001b[1;33m)\u001b[0m\u001b[1;33m.\u001b[0m\u001b[0msplit\u001b[0m\u001b[1;33m(\u001b[0m\u001b[1;33m)\u001b[0m\u001b[1;33m\u001b[0m\u001b[1;33m\u001b[0m\u001b[0m\n\u001b[0m\u001b[0;32m      9\u001b[0m \u001b[0mrs\u001b[0m \u001b[1;33m=\u001b[0m \u001b[0mcountDivisors\u001b[0m\u001b[1;33m(\u001b[0m\u001b[0mint\u001b[0m\u001b[1;33m(\u001b[0m\u001b[0ma\u001b[0m\u001b[1;33m)\u001b[0m\u001b[1;33m,\u001b[0m\u001b[0mint\u001b[0m\u001b[1;33m(\u001b[0m\u001b[0mb\u001b[0m\u001b[1;33m)\u001b[0m\u001b[1;33m,\u001b[0m\u001b[0mint\u001b[0m\u001b[1;33m(\u001b[0m\u001b[0mc\u001b[0m\u001b[1;33m)\u001b[0m\u001b[1;33m)\u001b[0m\u001b[1;33m\u001b[0m\u001b[1;33m\u001b[0m\u001b[0m\n\u001b[0;32m     10\u001b[0m \u001b[0mprint\u001b[0m\u001b[1;33m(\u001b[0m\u001b[0mrs\u001b[0m\u001b[1;33m)\u001b[0m\u001b[1;33m\u001b[0m\u001b[1;33m\u001b[0m\u001b[0m\n",
      "\u001b[1;31mValueError\u001b[0m: not enough values to unpack (expected 3, got 1)"
     ]
    }
   ],
   "source": [
    "# count divisors\n",
    "def countDivisors(l,r,k):\n",
    "    count = 0\n",
    "    for i in range(l,r+1):\n",
    "        if i % k == 0:\n",
    "            count = count + 1\n",
    "    return count\n",
    "a,b,c = input().split()\n",
    "rs = countDivisors(int(a),int(b),int(c))\n",
    "print(rs) \n",
    "\n"
   ]
  },
  {
   "cell_type": "code",
   "execution_count": null,
   "metadata": {},
   "outputs": [],
   "source": [
    "# factorial\n",
    "\n",
    "def factorial(n):\n",
    "    fact = 1\n",
    "    for i in range(1,n+1):\n",
    "        fact *= i\n",
    "    print(fact)\n",
    "\n",
    "a = int(input())\n",
    "\n",
    "factorial(a)\n",
    "\n"
   ]
  },
  {
   "cell_type": "code",
   "execution_count": null,
   "metadata": {},
   "outputs": [],
   "source": [
    "# Function to Toggle String Characters\n",
    " \n",
    "s = input()\n",
    "s1 =\"\"\n",
    "for i in s:\n",
    "    if i.islower():\n",
    "        s1 = s1 + i.upper()\n",
    "    else:\n",
    "        s1 = s1 + i.lower()\n",
    "print(s1)\n",
    "\n",
    "\n"
   ]
  },
  {
   "cell_type": "code",
   "execution_count": null,
   "metadata": {},
   "outputs": [],
   "source": [
    "# Palindrome\n",
    "def palindrome(s):\n",
    "    if s == s[::-1]:\n",
    "        print(\"YES\")\n",
    "    else:\n",
    "        print(\"NO\")\n",
    "s = input()\n",
    "palindrome(s)\n"
   ]
  },
  {
   "cell_type": "code",
   "execution_count": null,
   "metadata": {},
   "outputs": [],
   "source": [
    "# prime number \n",
    "def isPrime(n):\n",
    "    count =0\n",
    "    for j in range(1,n+1):\n",
    "        if n%j == 0:\n",
    "            count=count+1\n",
    "    if count==2:\n",
    "        return True\n",
    "    else:\n",
    "        return False\n",
    "def findPrime(n):\n",
    "    for i in range(1,n+1):\n",
    "        if isPrime(i):\n",
    "            print(i,end=\" \")\n",
    "    return\n",
    "            \n",
    "n=int(input())\n",
    "findPrime(n)\n",
    "\n",
    "\n"
   ]
  },
  {
   "cell_type": "code",
   "execution_count": null,
   "metadata": {},
   "outputs": [],
   "source": [
    "# Two strings"
   ]
  },
  {
   "cell_type": "code",
   "execution_count": null,
   "metadata": {},
   "outputs": [],
   "source": [
    "# Duration\n",
    "def duration(sh,sm,eh,em):\n",
    "    start = (sh*60)+sm\n",
    "    end = (eh*60)+em\n",
    "    a=abs(end-start)\n",
    "    if a<60:\n",
    "        print(0,end=\" \")\n",
    "        print(a)\n",
    "    elif a>=60:\n",
    "        hours=a//60\n",
    "        minutes=a%60\n",
    "        print(abs(hours),end=\" \")\n",
    "        print(minutes)\n",
    "x=int(input())\n",
    "for i in range(1,x+1):\n",
    "    sh,sm,eh,em=input().split()\n",
    "    duration(int(sh),int(sm),int(eh),int(em))\n",
    "    \n",
    "    \n",
    "    \n",
    "    \n",
    "## DURATION\n",
    "Input : start time,end time(HH,MM)\n",
    "    HH - {00,23}- {00 ,01,02,03,....23}\n",
    "    MM - {00,01,02,....59}\n",
    "    HH MM - {00 00,23 59}\n",
    "output: time differnece in HH MM\n",
    "    \n",
    "\n",
    "\n",
    "\n"
   ]
  },
  {
   "cell_type": "code",
   "execution_count": null,
   "metadata": {},
   "outputs": [],
   "source": [
    "# Char sum\n",
    "\n",
    "def weightofAlphabet(s):\n",
    "    sum = 0\n",
    "    for i in range(0,len(s)):\n",
    "        w=(ord(s[i])-96)\n",
    "        sum = sum + w\n",
    "    print(sum)\n",
    "s = input()\n",
    "weightofAlphabet(s)\n"
   ]
  },
  {
   "cell_type": "code",
   "execution_count": null,
   "metadata": {},
   "outputs": [],
   "source": [
    "\n",
    "    "
   ]
  }
 ],
 "metadata": {
  "kernelspec": {
   "display_name": "Python 3",
   "language": "python",
   "name": "python3"
  },
  "language_info": {
   "codemirror_mode": {
    "name": "ipython",
    "version": 3
   },
   "file_extension": ".py",
   "mimetype": "text/x-python",
   "name": "python",
   "nbconvert_exporter": "python",
   "pygments_lexer": "ipython3",
   "version": "3.7.3"
  }
 },
 "nbformat": 4,
 "nbformat_minor": 2
}
