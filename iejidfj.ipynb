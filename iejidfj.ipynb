{
 "cells": [
  {
   "cell_type": "code",
   "execution_count": null,
   "metadata": {},
   "outputs": [],
   "source": [
    "def innocentPeople(n):\n",
    "    s = \"A\",\"E\",\"I\",\"O\",\"U\",\"X\"\n",
    "    a = s[0]+s[1]\n",
    "    b = s[3]+s[4]\n",
    "    c = s[4]+s[5]\n",
    "    d = s[5]+s[7]\n",
    "    e = s[7]+s[8]\n",
    "    if a%2!=0 and b%2!=0 and c%2!=0 and d%2!=0 and e%2!=0 and s!=0:\n",
    "        print(invalid)\n",
    "    else:\n",
    "        print(valid)\n",
    "n = int(input())\n",
    "innocentPeople(n)"
   ]
  },
  {
   "cell_type": "code",
   "execution_count": null,
   "metadata": {},
   "outputs": [],
   "source": [
    "#laderophilia\n",
    "n=int(input())\n",
    "for i in range(1,n+1):\n",
    "    print(\"*   *\")\n",
    "    for j in range(1,2):\n",
    "          print(\"*****\")\n",
    "for j in range(1,2):\n",
    "            print(\"*   *\")\n",
    "    "
   ]
  }
 ],
 "metadata": {
  "kernelspec": {
   "display_name": "Python 3",
   "language": "python",
   "name": "python3"
  },
  "language_info": {
   "codemirror_mode": {
    "name": "ipython",
    "version": 3
   },
   "file_extension": ".py",
   "mimetype": "text/x-python",
   "name": "python",
   "nbconvert_exporter": "python",
   "pygments_lexer": "ipython3",
   "version": "3.7.3"
  }
 },
 "nbformat": 4,
 "nbformat_minor": 2
}
