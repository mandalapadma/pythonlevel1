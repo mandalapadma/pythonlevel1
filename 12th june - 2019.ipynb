{
 "cells": [
  {
   "cell_type": "markdown",
   "metadata": {},
   "source": [
    "# Problem Solving and programming\n",
    "### Date 12 june 2019\n",
    "#### Day Objectivies\n",
    "- String Slicing\n",
    "- Functions in Python\n",
    "- Basic problems related to conditional statements using functions\n",
    "- lteration in Python\n",
    "- problem set for practice\n",
    "- Python Data structures - Lists , Tuples and Dictionaries\n",
    "    - Basic Operations on data structures\n",
    "    - Applying Data structures to solve problems\n"
   ]
  },
  {
   "cell_type": "code",
   "execution_count": null,
   "metadata": {},
   "outputs": [],
   "source": []
  },
  {
   "cell_type": "markdown",
   "metadata": {},
   "source": [
    "# Sring Slicing"
   ]
  },
  {
   "cell_type": "code",
   "execution_count": 1,
   "metadata": {},
   "outputs": [
    {
     "ename": "NameError",
     "evalue": "name 'sl' is not defined",
     "output_type": "error",
     "traceback": [
      "\u001b[1;31m---------------------------------------------------------------------------\u001b[0m",
      "\u001b[1;31mNameError\u001b[0m                                 Traceback (most recent call last)",
      "\u001b[1;32m<ipython-input-1-e0f788d848ae>\u001b[0m in \u001b[0;36m<module>\u001b[1;34m\u001b[0m\n\u001b[0;32m     26\u001b[0m \u001b[0ms1\u001b[0m\u001b[1;33m[\u001b[0m \u001b[1;33m:\u001b[0m \u001b[1;33m:\u001b[0m\u001b[1;36m2\u001b[0m\u001b[1;33m]\u001b[0m\u001b[1;31m#Alternative characters in a string\u001b[0m\u001b[1;33m\u001b[0m\u001b[1;33m\u001b[0m\u001b[0m\n\u001b[0;32m     27\u001b[0m \u001b[0ms1\u001b[0m\u001b[1;33m[\u001b[0m \u001b[1;33m:\u001b[0m \u001b[1;33m:\u001b[0m\u001b[1;33m-\u001b[0m\u001b[1;36m2\u001b[0m\u001b[1;33m]\u001b[0m\u001b[1;31m#Alternative characters in reverse string\u001b[0m\u001b[1;33m\u001b[0m\u001b[1;33m\u001b[0m\u001b[0m\n\u001b[1;32m---> 28\u001b[1;33m \u001b[0msl\u001b[0m\u001b[1;33m[\u001b[0m\u001b[0mlen\u001b[0m\u001b[1;33m(\u001b[0m\u001b[0ms1\u001b[0m\u001b[1;33m)\u001b[0m\u001b[1;33m//\u001b[0m\u001b[1;36m2\u001b[0m\u001b[1;33m:\u001b[0m\u001b[0mlen\u001b[0m\u001b[1;33m(\u001b[0m\u001b[0ms1\u001b[0m\u001b[1;33m)\u001b[0m\u001b[1;33m//\u001b[0m\u001b[1;36m2\u001b[0m\u001b[1;33m-\u001b[0m\u001b[1;36m2\u001b[0m\u001b[1;33m:\u001b[0m\u001b[1;33m-\u001b[0m\u001b[1;36m1\u001b[0m\u001b[1;33m]\u001b[0m\u001b[1;31m#reversing the middle characters\u001b[0m\u001b[1;33m\u001b[0m\u001b[1;33m\u001b[0m\u001b[0m\n\u001b[0m\u001b[0;32m     29\u001b[0m \u001b[0ms1\u001b[0m\u001b[1;33m[\u001b[0m\u001b[1;33m:\u001b[0m \u001b[1;33m:\u001b[0m\u001b[1;33m-\u001b[0m\u001b[1;36m1\u001b[0m\u001b[1;33m]\u001b[0m\u001b[1;33m\u001b[0m\u001b[1;33m\u001b[0m\u001b[0m\n\u001b[0;32m     30\u001b[0m \u001b[1;33m\u001b[0m\u001b[0m\n",
      "\u001b[1;31mNameError\u001b[0m: name 'sl' is not defined"
     ]
    }
   ],
   "source": [
    "s1 = \"python\"\n",
    "\n",
    "s1[0]# Accessing the first character in a String\n",
    "s1[1]# Accessing the second character in a String\n",
    "s1[len(s1)-1]or s[-1] #Accessing the last character in a String\n",
    "s1[len(s1)-2]or s[-2]#Accessing the penultimate character of a String\n",
    "s1[0:2]or s1[:2]#Accessing the first two character in a String\n",
    "s1[-2:]#Accessing the last two character in a String\n",
    "s1[4:]# Accessing all characters first character in a String\n",
    "s1[len(s1)-5:-1]or s1[1:-1]# Accessing all the character expect first and last character in a string \n",
    "s1[len(s1)//2]#Accessing the middle character in a Srring\n",
    "s1[:-1]#Accessing first Characters in a string\n",
    "s1[0:]#Accessing all characters from the string\n",
    "s1[0:-2]#Accessing first four charactes in a string\n",
    "s1[len(s1)-4:-3]#Accessing midle of the character in a string\n",
    "#REVERSE STRINGS\n",
    "s1[-1:0:-1]#Revese of a string\n",
    "s1[-1: : -1]# Reverse character in astring\n",
    "s1[-2: :-1]#\n",
    "s1[-1: :-3]#\n",
    "s1[-1:-2:-1]\n",
    "s1[-1:len(s1)//2:-1]#\n",
    "s1[-1: :-2]#alternative characters in a REVERSEstring\n",
    "s1[len(s1)//2:-2]#\n",
    "s1[-1:-3:-1]#\n",
    "s1[ : :2]#Alternative characters in a string\n",
    "s1[ : :-2]#Alternative characters in reverse string\n",
    "sl[len(s1)//2:len(s1)//2-2:-1]#reversing the middle characters\n",
    "s1[: :-1]\n",
    "\n",
    "\n",
    "\n"
   ]
  },
  {
   "cell_type": "code",
   "execution_count": null,
   "metadata": {},
   "outputs": [],
   "source": []
  },
  {
   "cell_type": "markdown",
   "metadata": {},
   "source": [
    "# FUNCTIONS"
   ]
  },
  {
   "cell_type": "code",
   "execution_count": 33,
   "metadata": {},
   "outputs": [
    {
     "data": {
      "text/plain": [
       "'AMDAP'"
      ]
     },
     "execution_count": 33,
     "metadata": {},
     "output_type": "execute_result"
    }
   ],
   "source": [
    "# Function to reverse a string\n",
    "def reverseString(s):\n",
    "    return s[::-1]\n",
    "reverseString(\"PADMA\")\n",
    "\n",
    "\n",
    "    \n",
    "    "
   ]
  },
  {
   "cell_type": "code",
   "execution_count": 47,
   "metadata": {},
   "outputs": [
    {
     "data": {
      "text/plain": [
       "True"
      ]
     },
     "execution_count": 47,
     "metadata": {},
     "output_type": "execute_result"
    }
   ],
   "source": [
    "# Function to check if a string is a Palindrome(string reverstring also eaqual to given string)\n",
    "def palindrome(s):\n",
    "    if s == s[::-1]:\n",
    "        return True\n",
    "    else: \n",
    "        return False\n",
    "palindrome(\"madam\")\n",
    "palindrome(\"123321\")\n",
    "palindrome(\"\")\n",
    "palindrome(\"r\")\n",
    "palindrome(\"cc\")\n",
    "palindrome(\"eye\")\n",
    "palindrome(\"racecar\")\n",
    "\n",
    "    \n",
    "        "
   ]
  },
  {
   "cell_type": "code",
   "execution_count": 64,
   "metadata": {},
   "outputs": [
    {
     "data": {
      "text/plain": [
       "False"
      ]
     },
     "execution_count": 64,
     "metadata": {},
     "output_type": "execute_result"
    }
   ],
   "source": [
    "#function to check if a given year is a leap year\n",
    "def isLeapYear(year):\n",
    "    if year%400==0 or (year%4==0 and year%100!=0):\n",
    "        return True\n",
    "    return False\n",
    "isLeapYear(2019)#\n",
    "isLeapYear(2020)#\n",
    "isLeapYear(100)\n",
    "        "
   ]
  },
  {
   "cell_type": "code",
   "execution_count": 18,
   "metadata": {},
   "outputs": [
    {
     "data": {
      "text/plain": [
       "5"
      ]
     },
     "execution_count": 18,
     "metadata": {},
     "output_type": "execute_result"
    }
   ],
   "source": [
    "#Function to count the number of digits in a given number\n",
    "\"\"\"count = 0\n",
    "def Digit(s):\n",
    "    if s%10!=0:\n",
    "        return len(str(s))\n",
    "    else:\n",
    "       return count\n",
    "Digit(1234)\"\"\"\n",
    "\n",
    "    \n",
    "def countDigits(n):\n",
    "    return len(str(n))\n",
    "countDigits(12345)\n",
    "        \n",
    "        "
   ]
  },
  {
   "cell_type": "code",
   "execution_count": 5,
   "metadata": {},
   "outputs": [
    {
     "data": {
      "text/plain": [
       "9"
      ]
     },
     "execution_count": 5,
     "metadata": {},
     "output_type": "execute_result"
    }
   ],
   "source": [
    "#Function \n",
    "def greatest4(n1,n2,n3,n4):\n",
    "    if n1 > n2 and n1 > n3 and n1 > n4:\n",
    "        return n1\n",
    "    elif n2 > n3 and n3 > n4:\n",
    "        return n2\n",
    "    elif n3 > n4:\n",
    "        return n3\n",
    "    else:\n",
    "        return n4\n",
    "greatest4(2,5,7,9)\n",
    "        \n",
    "    "
   ]
  },
  {
   "cell_type": "code",
   "execution_count": null,
   "metadata": {},
   "outputs": [],
   "source": []
  },
  {
   "cell_type": "markdown",
   "metadata": {},
   "source": [
    "## Iteration or repetation\n",
    "- for\n",
    "- while"
   ]
  },
  {
   "cell_type": "code",
   "execution_count": 6,
   "metadata": {
    "scrolled": true
   },
   "outputs": [
    {
     "name": "stdout",
     "output_type": "stream",
     "text": [
      "1 2 3 4 5 6 7 8 9 10 11 12 13 14 15 16 17 18 19 20 \n",
      "1 2 3 4 5 6 7 8 9 10 \n"
     ]
    }
   ],
   "source": [
    "# function to print n natural numbers\n",
    "def printNNaturalNumbers(n):\n",
    "    for counter in range(1,n+1):\n",
    "        print(counter,end=\" \")\n",
    "    print()\n",
    "    return\n",
    "printNNaturalNumbers(20)\n",
    "printNNaturalNumbers(10)\n"
   ]
  },
  {
   "cell_type": "code",
   "execution_count": 6,
   "metadata": {},
   "outputs": [
    {
     "name": "stdout",
     "output_type": "stream",
     "text": [
      "50 49 48 47 46 45 44 43 42 41 40 39 38 37 36 35 34 33 32 31 30 29 28 27 26 25 24 23 22 21 20 19 18 17 16 15 14 13 12 11 10 "
     ]
    }
   ],
   "source": [
    "#function to print  revese vlaues range in the same line\n",
    "def reverseRange(lb,ub):\n",
    "    for i in range (ub,lb-1,-1):\n",
    "        print(i,end=\" \")\n",
    "reverseRange(10,50)\n",
    "\n"
   ]
  },
  {
   "cell_type": "code",
   "execution_count": 7,
   "metadata": {},
   "outputs": [
    {
     "name": "stdout",
     "output_type": "stream",
     "text": [
      "9 7 5 3 1 "
     ]
    }
   ],
   "source": [
    "def oddreverseRange(lb,ub):\n",
    "    for i in range(ub,lb-1,-1):\n",
    "        if i%2!=0:\n",
    "            print(i,end=\" \")\n",
    "oddreverseRange(1,10)"
   ]
  },
  {
   "cell_type": "code",
   "execution_count": 5,
   "metadata": {},
   "outputs": [
    {
     "data": {
      "text/plain": [
       "15150"
      ]
     },
     "execution_count": 5,
     "metadata": {},
     "output_type": "execute_result"
    }
   ],
   "source": [
    "def sumRange(lb,ub):\n",
    "    sum=0\n",
    "    for i in range(lb,ub+1):\n",
    "        sum = sum+i\n",
    "    return sum\n",
    "sumRange(100,200)\n"
   ]
  },
  {
   "cell_type": "code",
   "execution_count": 2,
   "metadata": {},
   "outputs": [
    {
     "data": {
      "text/plain": [
       "3.0"
      ]
     },
     "execution_count": 2,
     "metadata": {},
     "output_type": "execute_result"
    }
   ],
   "source": [
    "#function calculate the avernge of a given range\n",
    "def averageRange(lb,ub):\n",
    "    sum = 0\n",
    "    count = 0\n",
    "    for i in range(lb,ub+1):\n",
    "        sum = sum + i #sum of the values\n",
    "        count = count + 1#counting number of values\n",
    "    return sum/count\n",
    "    \n",
    "averageRange(1,5)\n",
    "    \n",
    "        \n"
   ]
  },
  {
   "cell_type": "code",
   "execution_count": 16,
   "metadata": {},
   "outputs": [
    {
     "name": "stdout",
     "output_type": "stream",
     "text": [
      "1 2 3 4 5 6 7 8 9 10 "
     ]
    }
   ],
   "source": [
    "# function to print N natural numbers using a while loop:\n",
    "def nNaturalNumbers(n):\n",
    "    counter = 1\n",
    "    while counter <= n:\n",
    "        print(counter,end = \" \")\n",
    "        counter = counter+1\n",
    "    return\n",
    "nNaturalNumbers(10)\n"
   ]
  },
  {
   "cell_type": "code",
   "execution_count": null,
   "metadata": {},
   "outputs": [],
   "source": []
  },
  {
   "cell_type": "code",
   "execution_count": 42,
   "metadata": {},
   "outputs": [
    {
     "name": "stdout",
     "output_type": "stream",
     "text": [
      "12 18 24 30 36 42 48 54 60 66 72 78 84 90 96 "
     ]
    }
   ],
   "source": [
    "#function to print all numbers divisible by 6 and \n",
    "# and not a factor of 100 in a given range(1b ,ub)\n",
    "\n",
    "def divisibleby6(l,n):\n",
    "    for i in range(l,n):\n",
    "        if i%6==0 and i%100!=0:\n",
    "         print(i,end=\" \")\n",
    "    return\n",
    "\n",
    "divisibleby6(10,100)\n",
    "\n",
    "                            or\n",
    "    def divisibleby6(lb,ub):\n",
    "        for i in range(lb,ub+1):\n",
    "            if i%6==0 and i%100!=0:\n",
    "         print(i,end=\" \")\n",
    "    return\n",
    "    \n",
    "    \n"
   ]
  },
  {
   "cell_type": "code",
   "execution_count": 12,
   "metadata": {},
   "outputs": [
    {
     "data": {
      "text/plain": [
       "125000.0"
      ]
     },
     "execution_count": 12,
     "metadata": {},
     "output_type": "execute_result"
    }
   ],
   "source": [
    "#function to find the average of cubes of all even numbers\n",
    "#in a given range(lb,ub)inclusive\n",
    "# 1, 10 -> 2,4,6,8 ->(8,64,216)\n",
    "def avgCubesEven(lb,ub):\n",
    "    sum = 0\n",
    "    count = 0\n",
    "    for i in range(lb,ub + 1):\n",
    "        if i % 2 == 0:\n",
    "         sum += i ** 3\n",
    "         count += 1\n",
    "        return sum/count\n",
    "avgCubesEven(50,75)\n"
   ]
  },
  {
   "cell_type": "code",
   "execution_count": 3,
   "metadata": {},
   "outputs": [
    {
     "name": "stdout",
     "output_type": "stream",
     "text": [
      "1 2 3 4 6 12\n"
     ]
    },
    {
     "data": {
      "text/plain": [
       "16"
      ]
     },
     "execution_count": 3,
     "metadata": {},
     "output_type": "execute_result"
    }
   ],
   "source": [
    "#function to generate the list of sum factors for a given number\n",
    "#12 -> 1 2 4 6 12\n",
    "def factorsList(n):\n",
    "    sum = 0\n",
    "    for i in range(1,n//2+1):\n",
    "        if n%i== 0:\n",
    "            sum += i\n",
    "            print(i,end=\" \")\n",
    "    print(n)\n",
    "    return sum\n",
    "\n",
    "factorsList(12)"
   ]
  },
  {
   "cell_type": "code",
   "execution_count": 4,
   "metadata": {},
   "outputs": [
    {
     "data": {
      "text/plain": [
       "120"
      ]
     },
     "execution_count": 4,
     "metadata": {},
     "output_type": "execute_result"
    }
   ],
   "source": [
    "#function to calculate the factorial of a given number\n",
    "def factorial(n):\n",
    "    fact = 1\n",
    "    for i in range(2,n+1):\n",
    "        fact *= i\n",
    "    return fact\n",
    "factorial(5)"
   ]
  },
  {
   "cell_type": "code",
   "execution_count": 10,
   "metadata": {},
   "outputs": [
    {
     "data": {
      "text/plain": [
       "True"
      ]
     },
     "execution_count": 10,
     "metadata": {},
     "output_type": "execute_result"
    }
   ],
   "source": [
    "#function to check if a given number is prime\n",
    "def isPrime(n):\n",
    "    flag = True\n",
    "    for i in range(2,n):\n",
    "        if n%i == 0:\n",
    "            flag = False\n",
    "            return flag\n",
    "    return flag\n",
    "isPrime(5)\n",
    "            \n",
    "        "
   ]
  },
  {
   "cell_type": "code",
   "execution_count": 12,
   "metadata": {},
   "outputs": [
    {
     "ename": "NameError",
     "evalue": "name 'isprime' is not defined",
     "output_type": "error",
     "traceback": [
      "\u001b[1;31m---------------------------------------------------------------------------\u001b[0m",
      "\u001b[1;31mNameError\u001b[0m                                 Traceback (most recent call last)",
      "\u001b[1;32m<ipython-input-12-e59a4a52c16a>\u001b[0m in \u001b[0;36m<module>\u001b[1;34m\u001b[0m\n\u001b[0;32m     11\u001b[0m         \u001b[0mseqCount\u001b[0m \u001b[1;33m+=\u001b[0m \u001b[1;36m1\u001b[0m\u001b[1;33m\u001b[0m\u001b[1;33m\u001b[0m\u001b[0m\n\u001b[0;32m     12\u001b[0m     \u001b[1;32mreturn\u001b[0m \u001b[0msum\u001b[0m\u001b[1;33m/\u001b[0m\u001b[0mn\u001b[0m\u001b[1;33m\u001b[0m\u001b[1;33m\u001b[0m\u001b[0m\n\u001b[1;32m---> 13\u001b[1;33m \u001b[0mavgNprimes\u001b[0m\u001b[1;33m(\u001b[0m\u001b[1;36m10\u001b[0m\u001b[1;33m)\u001b[0m\u001b[1;33m\u001b[0m\u001b[1;33m\u001b[0m\u001b[0m\n\u001b[0m\u001b[0;32m     14\u001b[0m \u001b[1;33m\u001b[0m\u001b[0m\n\u001b[0;32m     15\u001b[0m \u001b[1;33m\u001b[0m\u001b[0m\n",
      "\u001b[1;32m<ipython-input-12-e59a4a52c16a>\u001b[0m in \u001b[0;36mavgNprimes\u001b[1;34m(n)\u001b[0m\n\u001b[0;32m      5\u001b[0m     \u001b[0mseqCount\u001b[0m \u001b[1;33m=\u001b[0m \u001b[1;36m3\u001b[0m\u001b[1;33m\u001b[0m\u001b[1;33m\u001b[0m\u001b[0m\n\u001b[0;32m      6\u001b[0m     \u001b[1;32mwhile\u001b[0m\u001b[1;33m(\u001b[0m\u001b[0mprimeCount\u001b[0m \u001b[1;33m<\u001b[0m \u001b[0mn\u001b[0m\u001b[1;33m)\u001b[0m\u001b[1;33m:\u001b[0m\u001b[1;33m\u001b[0m\u001b[1;33m\u001b[0m\u001b[0m\n\u001b[1;32m----> 7\u001b[1;33m         \u001b[1;32mif\u001b[0m \u001b[0misprime\u001b[0m\u001b[1;33m(\u001b[0m\u001b[0mseqCount\u001b[0m\u001b[1;33m)\u001b[0m\u001b[1;33m:\u001b[0m\u001b[1;33m\u001b[0m\u001b[1;33m\u001b[0m\u001b[0m\n\u001b[0m\u001b[0;32m      8\u001b[0m             \u001b[0mprimeCount\u001b[0m \u001b[1;33m+=\u001b[0m \u001b[1;36m1\u001b[0m\u001b[1;33m\u001b[0m\u001b[1;33m\u001b[0m\u001b[0m\n\u001b[0;32m      9\u001b[0m             \u001b[0msum\u001b[0m \u001b[1;33m+=\u001b[0m \u001b[0mseqCount\u001b[0m\u001b[1;33m\u001b[0m\u001b[1;33m\u001b[0m\u001b[0m\n",
      "\u001b[1;31mNameError\u001b[0m: name 'isprime' is not defined"
     ]
    }
   ],
   "source": [
    "#function to calculate the average of first N prime numbers\n",
    "def avgNprimes(n):\n",
    "    primeCount = 2\n",
    "    sum = 0\n",
    "    seqCount = 3\n",
    "    while(primeCount < n):\n",
    "        if isprime(seqCount):\n",
    "            primeCount += 1\n",
    "            sum += seqCount\n",
    "            # print(seqcount)\n",
    "        seqCount += 1\n",
    "    return sum/n\n",
    "avgNprimes(10)\n",
    "\n",
    "\n",
    "    "
   ]
  },
  {
   "cell_type": "code",
   "execution_count": 5,
   "metadata": {},
   "outputs": [
    {
     "name": "stdout",
     "output_type": "stream",
     "text": [
      "6\n"
     ]
    },
    {
     "data": {
      "text/plain": [
       "True"
      ]
     },
     "execution_count": 5,
     "metadata": {},
     "output_type": "execute_result"
    }
   ],
   "source": [
    "#function to generate all prefect numbers in a given range\n",
    "\"\"\"\"def isPerfect(n):\n",
    "    if factorsList(n) == n:\n",
    "        return True\n",
    "    return False\n",
    "def generatePerfect(lb , ub):\n",
    "    for i in range(lb , ub+1):\n",
    "        if isPerfect(i):\n",
    "            print(i,end=\" \")\n",
    "    return\n",
    "generatePerfect(1,100)\"\"\"\n",
    "\n",
    "def isperfect(n):\n",
    "    sum = 0\n",
    "    for i in range(1,n):\n",
    "         if n%i == 0:\n",
    "            sum = sum + i\n",
    "    if sum == n:\n",
    "        return True\n",
    "    else:\n",
    "        return False\n",
    "    \n",
    "isperfect(6)\n"
   ]
  },
  {
   "cell_type": "markdown",
   "metadata": {},
   "source": [
    "## Advanced problem set "
   ]
  },
  {
   "cell_type": "code",
   "execution_count": null,
   "metadata": {},
   "outputs": [],
   "source": [
    "#function to calculate average  of all factorials in a given range\n",
    "# function to generate N odd armstrong number in a given range\n",
    "#function to generate multiplication table for a number in a given range"
   ]
  },
  {
   "cell_type": "code",
   "execution_count": 2,
   "metadata": {},
   "outputs": [
    {
     "name": "stdout",
     "output_type": "stream",
     "text": [
      "10 * 100 = 1000\n",
      "10 * 101 = 1010\n",
      "10 * 102 = 1020\n",
      "10 * 103 = 1030\n",
      "10 * 104 = 1040\n",
      "10 * 105 = 1050\n",
      "10 * 106 = 1060\n",
      "10 * 107 = 1070\n",
      "10 * 108 = 1080\n",
      "10 * 109 = 1090\n",
      "10 * 110 = 1100\n"
     ]
    }
   ],
   "source": [
    "#function to generate multiplication table for a number in a given range\n",
    " -10 in the range(100,103) inclusive\n",
    "    10 x 100 =1000\n",
    "    10 x 101 =1010\n",
    "    10 x 102 = 1020\n",
    "def multiplication(lb,ub):\n",
    "    n = 10\n",
    "    for i in range(lb,ub+1):\n",
    "        print(n,\"*\",i,\"=\",n*i)\n",
    "    return\n",
    "multiplication(100,110)\n",
    "        "
   ]
  },
  {
   "cell_type": "code",
   "execution_count": 7,
   "metadata": {},
   "outputs": [
    {
     "data": {
      "text/plain": [
       "120.0"
      ]
     },
     "execution_count": 7,
     "metadata": {},
     "output_type": "execute_result"
    }
   ],
   "source": [
    "#function to calculate average  of all factorials in a given range\n",
    "def averageFactorial(n):\n",
    "    fact = 1\n",
    "    count = 0\n",
    "    for i in range(1,n+1):\n",
    "        fact *= i\n",
    "        count = count+1\n",
    "    return fact/count\n",
    "averageFactorial(6)"
   ]
  },
  {
   "cell_type": "code",
   "execution_count": 8,
   "metadata": {},
   "outputs": [
    {
     "name": "stdout",
     "output_type": "stream",
     "text": [
      "Enter a number:153\n"
     ]
    },
    {
     "data": {
      "text/plain": [
       "True"
      ]
     },
     "execution_count": 8,
     "metadata": {},
     "output_type": "execute_result"
    }
   ],
   "source": [
    "# function to generate N odd armstrong number in a given range\n",
    "def armstroNgnumber(n):\n",
    "        sum = 0\n",
    "        l = len(n)\n",
    "        for ch in n:\n",
    "            sum += pow(int(ch),l)\n",
    "        if str(sum) == n:\n",
    "            return True\n",
    "        else:\n",
    "            return False\n",
    "       \n",
    "\n",
    "num=input(\"Enter a number:\")\n",
    "armstroNgnumber(num)"
   ]
  },
  {
   "cell_type": "code",
   "execution_count": 40,
   "metadata": {},
   "outputs": [
    {
     "name": "stdout",
     "output_type": "stream",
     "text": [
      "2000 2004 2008 2012 2016 2020 "
     ]
    }
   ],
   "source": [
    "#isLeapYear(year)# TO Check given year is leapyear\n",
    "def isLeapyear(year):\n",
    "    if year % 400 == 0 or (year %100!=0 and year % 4 == 0):\n",
    "        return True\n",
    "    return False\n",
    "\n",
    "\n",
    "def generateLeapYears(lb,ub):\n",
    "    for year in range(lb,ub+1):\n",
    "        if isLeapyear(year):\n",
    "            print(year,end=\" \")\n",
    "    return \n",
    "# number of days in middle years of 2016 - 2019\n",
    "generateLeapYears(2000,2020) \n",
    "\n",
    "    \n",
    "    "
   ]
  },
  {
   "cell_type": "code",
   "execution_count": 28,
   "metadata": {},
   "outputs": [
    {
     "name": "stdout",
     "output_type": "stream",
     "text": [
      "2000 2004 2008 2012 2016 "
     ]
    }
   ],
   "source": [
    "# 2000-2020 -> 2000 2004 2008 2012 2016 2020\n",
    "\n",
    " \n",
    "def generateleapYear(lb,ub):\n",
    "    for i in range(lb,ub-1,4):\n",
    "        print(i,end=\" \")\n",
    "    return \n",
    "\n",
    "generateleapYear(2000,2020)       \n",
    "        "
   ]
  },
  {
   "cell_type": "code",
   "execution_count": 9,
   "metadata": {},
   "outputs": [
    {
     "ename": "NameError",
     "evalue": "name 'year' is not defined",
     "output_type": "error",
     "traceback": [
      "\u001b[1;31m---------------------------------------------------------------------------\u001b[0m",
      "\u001b[1;31mNameError\u001b[0m                                 Traceback (most recent call last)",
      "\u001b[1;32m<ipython-input-9-9227cf5c3825>\u001b[0m in \u001b[0;36m<module>\u001b[1;34m\u001b[0m\n\u001b[0;32m     14\u001b[0m             \u001b[0msum\u001b[0m \u001b[1;33m=\u001b[0m \u001b[0msum\u001b[0m \u001b[1;33m+\u001b[0m \u001b[1;36m365\u001b[0m\u001b[1;33m\u001b[0m\u001b[1;33m\u001b[0m\u001b[0m\n\u001b[0;32m     15\u001b[0m     \u001b[1;32mreturn\u001b[0m \u001b[0msum\u001b[0m\u001b[1;33m\u001b[0m\u001b[1;33m\u001b[0m\u001b[0m\n\u001b[1;32m---> 16\u001b[1;33m \u001b[0mdays\u001b[0m\u001b[1;33m(\u001b[0m\u001b[1;36m2000\u001b[0m\u001b[1;33m,\u001b[0m\u001b[1;36m2010\u001b[0m\u001b[1;33m)\u001b[0m\u001b[1;33m\u001b[0m\u001b[1;33m\u001b[0m\u001b[0m\n\u001b[0m",
      "\u001b[1;32m<ipython-input-9-9227cf5c3825>\u001b[0m in \u001b[0;36mdays\u001b[1;34m(lb, ub)\u001b[0m\n\u001b[0;32m      9\u001b[0m     \u001b[0msum\u001b[0m \u001b[1;33m=\u001b[0m \u001b[1;36m0\u001b[0m\u001b[1;33m\u001b[0m\u001b[1;33m\u001b[0m\u001b[0m\n\u001b[0;32m     10\u001b[0m     \u001b[1;32mfor\u001b[0m \u001b[0mi\u001b[0m \u001b[1;32min\u001b[0m \u001b[0mrange\u001b[0m\u001b[1;33m(\u001b[0m\u001b[0mlb\u001b[0m\u001b[1;33m,\u001b[0m\u001b[0mub\u001b[0m\u001b[1;33m+\u001b[0m\u001b[1;36m1\u001b[0m\u001b[1;33m)\u001b[0m\u001b[1;33m:\u001b[0m\u001b[1;33m\u001b[0m\u001b[1;33m\u001b[0m\u001b[0m\n\u001b[1;32m---> 11\u001b[1;33m         \u001b[1;32mif\u001b[0m \u001b[0misLeapyear\u001b[0m\u001b[1;33m(\u001b[0m\u001b[0myear\u001b[0m\u001b[1;33m)\u001b[0m\u001b[1;33m:\u001b[0m\u001b[1;33m\u001b[0m\u001b[1;33m\u001b[0m\u001b[0m\n\u001b[0m\u001b[0;32m     12\u001b[0m             \u001b[0msum\u001b[0m \u001b[1;33m=\u001b[0m \u001b[0msum\u001b[0m \u001b[1;33m+\u001b[0m \u001b[1;36m366\u001b[0m\u001b[1;33m\u001b[0m\u001b[1;33m\u001b[0m\u001b[0m\n\u001b[0;32m     13\u001b[0m         \u001b[1;32melse\u001b[0m\u001b[1;33m:\u001b[0m\u001b[1;33m\u001b[0m\u001b[1;33m\u001b[0m\u001b[0m\n",
      "\u001b[1;31mNameError\u001b[0m: name 'year' is not defined"
     ]
    }
   ],
   "source": [
    "#fuction to calculate number of dayas in a given time period\n",
    "def isLeapyear(year):\n",
    "    if year % 400 == 0 or (year %100!=0 and year % 4 == 0):\n",
    "        return True\n",
    "    return False\n",
    "\n",
    "\n",
    "def days(lb,ub):\n",
    "    sum = 0\n",
    "    for i in range(lb,ub+1):\n",
    "        if isLeapyear(year):\n",
    "            sum = sum + 366\n",
    "        else:\n",
    "            sum = sum + 365\n",
    "    return sum\n",
    "days(2000,2010)"
   ]
  },
  {
   "cell_type": "code",
   "execution_count": 15,
   "metadata": {},
   "outputs": [
    {
     "ename": "NameError",
     "evalue": "name 'numberOfdaysMontdah' is not defined",
     "output_type": "error",
     "traceback": [
      "\u001b[1;31m---------------------------------------------------------------------------\u001b[0m",
      "\u001b[1;31mNameError\u001b[0m                                 Traceback (most recent call last)",
      "\u001b[1;32m<ipython-input-15-aeb38c03eb98>\u001b[0m in \u001b[0;36m<module>\u001b[1;34m\u001b[0m\n\u001b[0;32m     28\u001b[0m     \u001b[1;32melse\u001b[0m\u001b[1;33m:\u001b[0m\u001b[1;33m\u001b[0m\u001b[1;33m\u001b[0m\u001b[0m\n\u001b[0;32m     29\u001b[0m          \u001b[1;32mreturn\u001b[0m \u001b[1;36m30\u001b[0m\u001b[1;33m\u001b[0m\u001b[1;33m\u001b[0m\u001b[0m\n\u001b[1;32m---> 30\u001b[1;33m \u001b[0mnumberOfdaysMontdah\u001b[0m\u001b[1;33m(\u001b[0m\u001b[1;36m4\u001b[0m\u001b[1;33m,\u001b[0m\u001b[1;36m2019\u001b[0m\u001b[1;33m)\u001b[0m\u001b[1;33m\u001b[0m\u001b[1;33m\u001b[0m\u001b[0m\n\u001b[0m\u001b[0;32m     31\u001b[0m \u001b[1;32mdef\u001b[0m \u001b[0mdaysInStrartyear\u001b[0m\u001b[1;33m(\u001b[0m\u001b[0mstartmonth\u001b[0m\u001b[1;33m,\u001b[0m\u001b[0mstartyear\u001b[0m\u001b[1;33m)\u001b[0m\u001b[1;33m:\u001b[0m\u001b[1;33m\u001b[0m\u001b[1;33m\u001b[0m\u001b[0m\n\u001b[0;32m     32\u001b[0m     \u001b[0mdays\u001b[0m \u001b[1;33m=\u001b[0m \u001b[1;36m0\u001b[0m\u001b[1;33m\u001b[0m\u001b[1;33m\u001b[0m\u001b[0m\n",
      "\u001b[1;31mNameError\u001b[0m: name 'numberOfdaysMontdah' is not defined"
     ]
    }
   ],
   "source": [
    "#function to calculate number of hours for a given period\n",
    "#number of hours(11,1975,03,1999)\n",
    "# [all days from feb 2016 to dec 2016,\n",
    "# 2,2016 , 6,2016\n",
    "#all days : for years between 2016 and 2019,\n",
    "# all days from jan to june 2019]\n",
    "# no of hours = 24*No of days\n",
    "#3 steps\n",
    "#1.start month year to end of year -calculate no \n",
    "#2. calculate days for all years between start year \n",
    "     # 2017,2018 - 365 * no of years\n",
    "#3. calculate days from jan to end month year\n",
    "#Excluding Feb\n",
    "# first Six months - 1,3,4,5,6\n",
    "                     # all odd months have 31 days\n",
    "                     # all even months have 30 days\n",
    "#last Six months - 8,9,10,11,12\n",
    "                   # all even months have 31 days\n",
    "                   # all odd months have 30 days\n",
    "# 31 days - (month <= 7 and month % 2 !=0 and month ! = 2) // (month >= 8 and month % 2 =0)\n",
    "def numberOfdaysMonth(month,year):\n",
    "    if month == 2:\n",
    "        if isLepayear(year):\n",
    "            return 29\n",
    "        return 28\n",
    "    elif (month <= 7 and month %2!=0)or (month >= 8 and month % 2 ==0):\n",
    "          return 31\n",
    "    else:\n",
    "         return 30\n",
    "numberOfdaysMontdah(4,2019)\n",
    "def daysInStrartyear(startmonth,startyear):\n",
    "    days = 0 \n",
    "    for month in range(startmonth,13):\n",
    "        days += numberOfdaysMonth(month,startyear)\n",
    "    return days\n",
    "daysInStrartyear(1,2020)          \n",
    "def daysInEndyear(endmonth,endyear):\n",
    "    days = 0\n",
    "    for month in range(1,endmonth+1):\n",
    "        days += numberOfdaysMonth(month,endyear)\n",
    "    return days\n",
    "daysInEndyear(2,2019)\n",
    "def numberOfHours(startmonth,startyear,endmonth,endyear):\n",
    "    days = 0\n",
    "    days += daysInStrartyear(startmonth,startyear)\n",
    "    days += daysInEndyear(endmonth,endyear)\n",
    "    if endyear - startyear == 2: # 2019 - 2017\n",
    "        days += numberOfdays(startyear+1,startyear+1)\n",
    "    elif endyear - startyear > 2:\n",
    "        days += numberOfdays(startyear+1,endyear-1)\n",
    "    return 24 * days\n",
    "numberOfHours(11,1975,3,1999)\n",
    "        \n",
    "        \n",
    "    \n"
   ]
  },
  {
   "cell_type": "code",
   "execution_count": null,
   "metadata": {},
   "outputs": [],
   "source": []
  }
 ],
 "metadata": {
  "kernelspec": {
   "display_name": "Python 3",
   "language": "python",
   "name": "python3"
  },
  "language_info": {
   "codemirror_mode": {
    "name": "ipython",
    "version": 3
   },
   "file_extension": ".py",
   "mimetype": "text/x-python",
   "name": "python",
   "nbconvert_exporter": "python",
   "pygments_lexer": "ipython3",
   "version": "3.7.3"
  }
 },
 "nbformat": 4,
 "nbformat_minor": 2
}
